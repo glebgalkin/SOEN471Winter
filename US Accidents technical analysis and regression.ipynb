{
 "cells": [
  {
   "cell_type": "markdown",
   "id": "automatic-packet",
   "metadata": {},
   "source": [
    "# Imports, spark init, dataset read"
   ]
  },
  {
   "cell_type": "code",
   "execution_count": 89,
   "id": "outside-guard",
   "metadata": {},
   "outputs": [],
   "source": [
    "from pyspark.sql import SparkSession\n",
    "\n",
    "import numpy as np\n",
    "from pyspark.sql.functions import col, explode, array, lit\n",
    "import plotly.graph_objects as go\n",
    "import pyspark.sql.functions as sql_func\n",
    "from pyspark.sql.types import StructType, StructField, StringType, TimestampType, IntegerType, FloatType, BooleanType\n",
    "from functools import reduce\n",
    "import matplotlib.pyplot as plt\n",
    "from pyspark.sql import DataFrame\n",
    "from pyspark.sql.functions import col\n",
    "from pyspark.ml.regression import GeneralizedLinearRegression, LinearRegression, DecisionTreeRegressor, RandomForestRegressor\n",
    "from pyspark.ml.classification import LogisticRegression\n",
    "from pyspark.ml.evaluation import RegressionEvaluator, MulticlassClassificationEvaluator\n",
    "from pyspark.ml.feature import StringIndexer, OneHotEncoder, VectorAssembler, FeatureHasher\n",
    "seed = 777"
   ]
  },
  {
   "cell_type": "code",
   "execution_count": 90,
   "id": "becoming-microwave",
   "metadata": {},
   "outputs": [],
   "source": [
    "def init_spark():\n",
    "    spark = SparkSession \\\n",
    "        .builder \\\n",
    "        .master('local[*]')\\\n",
    "        .appName(\"Python Spark SQL basic example\") \\\n",
    "        .config(\"spark.driver.memory\", \"15g\")\\\n",
    "        .getOrCreate()\n",
    "    return spark"
   ]
  },
  {
   "cell_type": "markdown",
   "id": "danish-source",
   "metadata": {},
   "source": [
    "We do not need 'Country' column, since it only has one value, it is clear we work in the scope of USA, \n",
    "'id' provides no relevant information either, so can be dropped\n",
    "\n",
    "We also add a year column to easily distinguish on when the specific accdent occured"
   ]
  },
  {
   "cell_type": "code",
   "execution_count": 91,
   "id": "closed-richardson",
   "metadata": {},
   "outputs": [],
   "source": [
    "def read_dataset(filename):\n",
    "    spark = init_spark()\n",
    "    total_accidents_data = spark.read.csv(filename, header=True, mode=\"DROPMALFORMED\", encoding=\"ISO-8859-1\", inferSchema=True)\n",
    "    # dropped meaningless and 1 class only columns\n",
    "    final_result = total_accidents_data.drop('Country').drop('id')\\\n",
    "        .withColumn('start_year', sql_func.date_format(total_accidents_data.Start_Time, 'y'))\n",
    "      \n",
    "    return final_result"
   ]
  },
  {
   "cell_type": "code",
   "execution_count": 92,
   "id": "crude-joshua",
   "metadata": {},
   "outputs": [
    {
     "name": "stdout",
     "output_type": "stream",
     "text": [
      "root\n",
      " |-- Source: string (nullable = true)\n",
      " |-- TMC: double (nullable = true)\n",
      " |-- Severity: integer (nullable = true)\n",
      " |-- Start_Time: string (nullable = true)\n",
      " |-- End_Time: string (nullable = true)\n",
      " |-- Start_Lat: double (nullable = true)\n",
      " |-- Start_Lng: double (nullable = true)\n",
      " |-- End_Lat: double (nullable = true)\n",
      " |-- End_Lng: double (nullable = true)\n",
      " |-- Distance(mi): double (nullable = true)\n",
      " |-- Description: string (nullable = true)\n",
      " |-- Number: double (nullable = true)\n",
      " |-- Street: string (nullable = true)\n",
      " |-- Side: string (nullable = true)\n",
      " |-- City: string (nullable = true)\n",
      " |-- County: string (nullable = true)\n",
      " |-- State: string (nullable = true)\n",
      " |-- Zipcode: string (nullable = true)\n",
      " |-- Timezone: string (nullable = true)\n",
      " |-- Airport_Code: string (nullable = true)\n",
      " |-- Weather_Timestamp: string (nullable = true)\n",
      " |-- Temperature(F): double (nullable = true)\n",
      " |-- Wind_Chill(F): double (nullable = true)\n",
      " |-- Humidity(%): double (nullable = true)\n",
      " |-- Pressure(in): double (nullable = true)\n",
      " |-- Visibility(mi): double (nullable = true)\n",
      " |-- Wind_Direction: string (nullable = true)\n",
      " |-- Wind_Speed(mph): double (nullable = true)\n",
      " |-- Precipitation(in): double (nullable = true)\n",
      " |-- Weather_Condition: string (nullable = true)\n",
      " |-- Amenity: boolean (nullable = true)\n",
      " |-- Bump: boolean (nullable = true)\n",
      " |-- Crossing: boolean (nullable = true)\n",
      " |-- Give_Way: boolean (nullable = true)\n",
      " |-- Junction: boolean (nullable = true)\n",
      " |-- No_Exit: boolean (nullable = true)\n",
      " |-- Railway: boolean (nullable = true)\n",
      " |-- Roundabout: boolean (nullable = true)\n",
      " |-- Station: boolean (nullable = true)\n",
      " |-- Stop: boolean (nullable = true)\n",
      " |-- Traffic_Calming: boolean (nullable = true)\n",
      " |-- Traffic_Signal: boolean (nullable = true)\n",
      " |-- Turning_Loop: boolean (nullable = true)\n",
      " |-- Sunrise_Sunset: string (nullable = true)\n",
      " |-- Civil_Twilight: string (nullable = true)\n",
      " |-- Nautical_Twilight: string (nullable = true)\n",
      " |-- Astronomical_Twilight: string (nullable = true)\n",
      " |-- start_year: string (nullable = true)\n",
      "\n"
     ]
    }
   ],
   "source": [
    "root_accidents_data = read_dataset('data/US_Accidents_Dec20.csv')\n",
    "root_accidents_data.printSchema()"
   ]
  },
  {
   "attachments": {},
   "cell_type": "markdown",
   "id": "racial-tennessee",
   "metadata": {},
   "source": [
    "To reflect on the above output:\n",
    "TMC - is the accident code assigned by the authorities full list can be found here:\n",
    "https://wiki.openstreetmap.org/wiki/TMC/Event_Code_List"
   ]
  },
  {
   "cell_type": "code",
   "execution_count": 93,
   "id": "meaning-resident",
   "metadata": {},
   "outputs": [
    {
     "data": {
      "text/plain": [
       "4232541"
      ]
     },
     "execution_count": 93,
     "metadata": {},
     "output_type": "execute_result"
    }
   ],
   "source": [
    "# Total dataset count is:\n",
    "root_accidents_data.count()"
   ]
  },
  {
   "cell_type": "markdown",
   "id": "active-thesis",
   "metadata": {},
   "source": [
    "# Data analysis and cleanup, imbalance treatment, feature engineering"
   ]
  },
  {
   "cell_type": "markdown",
   "id": "ahead-casting",
   "metadata": {},
   "source": [
    "### Data source and meta"
   ]
  },
  {
   "cell_type": "code",
   "execution_count": 94,
   "id": "following-chorus",
   "metadata": {},
   "outputs": [],
   "source": [
    "# we will use these functions to display a pie chart of a column\n",
    "def display_piechart_of_column(accidents_dataframe: DataFrame, column_name: str):\n",
    "    counted_accidents = accidents_dataframe.withColumn(column_name, col(column_name).cast('string'))\\\n",
    "        .groupBy(column_name).count()\n",
    "        \n",
    "    counted_accidents = counted_accidents.collect()\n",
    "    labels = [label[column_name] for label in counted_accidents]\n",
    "    counts = [label['count'] for label in counted_accidents]\n",
    "    count_sum = reduce(lambda x, y: x + y, counts)\n",
    "    percentages = [count/count_sum for count in counts]\n",
    "    piechart(labels, percentages, column_name)\n",
    "    zipped = [(labels[i], counts[i]) for i in range(len(labels))]\n",
    "    print(zipped)\n",
    "\n",
    "\n",
    "def piechart(labels, percentages, column_name):\n",
    "    plt.pie(percentages, labels=labels)\n",
    "    plt.title(f'ratio by {column_name}')\n",
    "    plt.show()"
   ]
  },
  {
   "cell_type": "code",
   "execution_count": 95,
   "id": "suited-process",
   "metadata": {},
   "outputs": [
    {
     "data": {
      "image/png": "[encoded data removed]",
      "text/plain": [
       "<Figure size 432x288 with 1 Axes>"
      ]
     },
     "metadata": {},
     "output_type": "display_data"
    },
    {
     "name": "stdout",
     "output_type": "stream",
     "text": [
      "[('Bing', 1516064), ('MapQuest', 2651861), ('MapQuest-Bing', 64616)]\n"
     ]
    }
   ],
   "source": [
    "display_piechart_of_column(root_accidents_data, 'Source')"
   ]
  },
  {
   "cell_type": "markdown",
   "id": "continental-bookmark",
   "metadata": {},
   "source": [
    "As can be seen above the data comes from 3 sources: MapQuest, Bing, and a mix up of MapQuest-Bing. There are about twice as many inputs from MapQuest compared to Bing"
   ]
  },
  {
   "cell_type": "code",
   "execution_count": 96,
   "id": "continuing-crystal",
   "metadata": {},
   "outputs": [
    {
     "data": {
      "image/png": "[encoded data removed]",
      "text/plain": [
       "<Figure size 432x288 with 1 Axes>"
      ]
     },
     "metadata": {},
     "output_type": "display_data"
    },
    {
     "name": "stdout",
     "output_type": "stream",
     "text": [
      "[('3', 161052), ('1', 28178), ('4', 114452), ('2', 1212382)]\n"
     ]
    },
    {
     "data": {
      "image/png": "[encoded data removed]",
      "text/plain": [
       "<Figure size 432x288 with 1 Axes>"
      ]
     },
     "metadata": {},
     "output_type": "display_data"
    },
    {
     "name": "stdout",
     "output_type": "stream",
     "text": [
      "[('3', 886933), ('1', 1115), ('4', 9269), ('2', 1754544)]\n"
     ]
    }
   ],
   "source": [
    "bing = root_accidents_data.filter(col('Source') == 'Bing')\n",
    "display_piechart_of_column(bing, 'Severity')\n",
    "\n",
    "quest = root_accidents_data.filter(col('Source') == 'MapQuest')\n",
    "display_piechart_of_column(quest, 'Severity')"
   ]
  },
  {
   "attachments": {},
   "cell_type": "markdown",
   "id": "atlantic-maldives",
   "metadata": {},
   "source": [
    "as can be seen above, Bing and MapQuest have recorded a different ratios of severities of each level, It looks like Map Quest have stricter requirements for level 4, and such a minority of them was recorded over 5 years. Bing's chart while biased towards severity 2 displays more coverage on other categories. We cannot use both datasets, and while it is hard to choose which one. #todo decide if should choose either or drop"
   ]
  },
  {
   "cell_type": "markdown",
   "id": "strategic-accommodation",
   "metadata": {},
   "source": [
    "wind analysis"
   ]
  },
  {
   "cell_type": "markdown",
   "id": "intense-beatles",
   "metadata": {},
   "source": [
    "us states analysis. Maybe just do regressions per state to reach better results since authorities mostly care about data within their state and not their neighbour's state\n"
   ]
  },
  {
   "cell_type": "markdown",
   "id": "protected-polymer",
   "metadata": {},
   "source": [
    "Outlier Treatment"
   ]
  },
  {
   "cell_type": "code",
   "execution_count": 97,
   "id": "authentic-sewing",
   "metadata": {},
   "outputs": [],
   "source": [
    "root_accidents_data = root_accidents_data.withColumn('year', sql_func.date_format(root_accidents_data.Start_Time, 'y'))\\\n",
    "    .withColumn('year', col('year').cast(IntegerType()))\n",
    "root_accidents_data = root_accidents_data.withColumn('month', sql_func.date_format(root_accidents_data.Start_Time, 'M'))\\\n",
    "    .withColumn('month', col('month').cast(IntegerType()))\n",
    "root_accidents_data = root_accidents_data.withColumn('day', sql_func.date_format(root_accidents_data.Start_Time, 'd'))\\\n",
    "    .withColumn('day', col('day').cast(IntegerType()))\n",
    "root_accidents_data = root_accidents_data.withColumn('hour_minutes', \\\n",
    "    sql_func.date_format(root_accidents_data.Start_Time, 'H')*60 + sql_func.date_format(root_accidents_data.Start_Time, 'm'))"
   ]
  },
  {
   "attachments": {},
   "cell_type": "markdown",
   "id": "moved-sugar",
   "metadata": {},
   "source": [
    "### Accidents per day of the week"
   ]
  },
  {
   "cell_type": "code",
   "execution_count": 98,
   "id": "infectious-drunk",
   "metadata": {},
   "outputs": [],
   "source": [
    "root_accidents_data = root_accidents_data.withColumn('weekday', sql_func.date_format(root_accidents_data.Start_Time, 'E'))"
   ]
  },
  {
   "cell_type": "code",
   "execution_count": 99,
   "id": "humanitarian-branch",
   "metadata": {},
   "outputs": [
    {
     "data": {
      "image/png": "[encoded data removed]",
      "text/plain": [
       "<Figure size 432x288 with 1 Axes>"
      ]
     },
     "metadata": {},
     "output_type": "display_data"
    },
    {
     "name": "stdout",
     "output_type": "stream",
     "text": [
      "[('Sun', 255920), ('Mon', 703779), ('Thu', 742968), ('Sat', 289754), ('Wed', 747851), ('Tue', 744645), ('Fri', 747624)]\n"
     ]
    }
   ],
   "source": [
    "display_piechart_of_column(root_accidents_data, 'weekday')"
   ]
  },
  {
   "cell_type": "markdown",
   "id": "cleared-specific",
   "metadata": {},
   "source": [
    "### Road condition, accident side, street location"
   ]
  },
  {
   "cell_type": "markdown",
   "id": "accredited-annual",
   "metadata": {},
   "source": [
    "#### Side"
   ]
  },
  {
   "cell_type": "code",
   "execution_count": 106,
   "id": "missing-genius",
   "metadata": {},
   "outputs": [
    {
     "data": {
      "image/png": "[encoded data removed]",
      "text/plain": [
       "<Figure size 432x288 with 1 Axes>"
      ]
     },
     "metadata": {},
     "output_type": "display_data"
    },
    {
     "name": "stdout",
     "output_type": "stream",
     "text": [
      "[('L', 62607), ('R', 460092)]\n"
     ]
    }
   ],
   "source": [
    "display_piechart_of_column(root_accidents_data, 'Side')"
   ]
  },
  {
   "cell_type": "markdown",
   "id": "decimal-proceeding",
   "metadata": {},
   "source": [
    "should we add bivariate/multivariate analysis?"
   ]
  },
  {
   "cell_type": "markdown",
   "id": "prescribed-agent",
   "metadata": {},
   "source": [
    "separate EDA from data pre processing"
   ]
  },
  {
   "attachments": {
    "image.png": {
     "image/png": "[encoded data removed]"
    }
   },
   "cell_type": "markdown",
   "id": "advised-accessory",
   "metadata": {},
   "source": [
    "Update wind direction property and map it to W if WNW for example\n",
    "![image.png](attachment:image.png)"
   ]
  },
  {
   "cell_type": "markdown",
   "id": "approved-forward",
   "metadata": {},
   "source": [
    "update weather conditions. If weather is calm then wind speed is 0 but it is null in the dataset"
   ]
  },
  {
   "cell_type": "markdown",
   "id": "comfortable-college",
   "metadata": {},
   "source": [
    "update wind values"
   ]
  },
  {
   "cell_type": "markdown",
   "id": "dominican-adult",
   "metadata": {},
   "source": [
    "turn start into year month day, hour minutes, drop start time"
   ]
  },
  {
   "cell_type": "markdown",
   "id": "pharmaceutical-messenger",
   "metadata": {},
   "source": [
    "drop TMC, End Lat, End lng, distance (ml) since these can only be gathered post factum"
   ]
  },
  {
   "cell_type": "markdown",
   "id": "applied-repair",
   "metadata": {},
   "source": [
    "drop description since POI are accessible via other columns"
   ]
  },
  {
   "cell_type": "code",
   "execution_count": 100,
   "id": "vulnerable-complement",
   "metadata": {},
   "outputs": [
    {
     "data": {
      "application/vnd.plotly.v1+json": {
       "config": {
        "plotlyServerURL": "https://plot.ly"
       },
       "data": [
        {
         "colorbar": {
          "title": {
           "text": "Count"
          }
         },
         "colorscale": [
          [
           0,
           "rgb(252, 222, 156)"
          ],
          [
           0.16666666666666666,
           "rgb(250, 164, 118)"
          ],
          [
           0.3333333333333333,
           "rgb(240, 116, 110)"
          ],
          [
           0.5,
           "rgb(227, 79, 111)"
          ],
          [
           0.6666666666666666,
           "rgb(220, 57, 119)"
          ],
          [
           0.8333333333333334,
           "rgb(185, 37, 122)"
          ],
          [
           1,
           "rgb(124, 29, 111)"
          ]
         ],
         "locationmode": "USA-states",
         "locations": [
          "SC",
          "AZ",
          "LA",
          "MN",
          "NJ",
          "DC",
          "OR",
          "VA",
          "RI",
          "KY",
          "WY",
          "NH",
          "MI",
          "NV",
          "WI",
          "ID",
          "CA",
          "NE",
          "CT",
          "MT",
          "NC",
          "VT",
          "MD",
          "DE",
          "MO",
          "IL",
          "ME",
          "WA",
          "ND",
          "MS",
          "AL",
          "IN",
          "OH",
          "TN",
          "IA",
          "NM",
          "PA",
          "SD",
          "NY",
          "TX",
          "WV",
          "GA",
          "MA",
          "KS",
          "FL",
          "CO",
          "AR",
          "OK",
          "UT"
         ],
         "type": "choropleth",
         "z": [
          212712,
          93103,
          80560,
          105497,
          69167,
          6511,
          108352,
          127949,
          12911,
          24713,
          521,
          8559,
          105772,
          12023,
          21519,
          4251,
          972585,
          25006,
          32520,
          3357,
          193457,
          771,
          69958,
          6908,
          40153,
          111712,
          2346,
          74705,
          469,
          8055,
          57017,
          38114,
          73161,
          88495,
          14205,
          6462,
          136049,
          220,
          189513,
          376445,
          3617,
          107116,
          44115,
          9738,
          370131,
          54035,
          5105,
          64871,
          58010
         ]
        }
       ],
       "layout": {
        "font": {
         "color": "#000000",
         "family": "Verdana",
         "size": 12
        },
        "geo": {
         "scope": "usa"
        },
        "template": {
         "data": {
          "bar": [
           {
            "error_x": {
             "color": "#2a3f5f"
            },
            "error_y": {
             "color": "#2a3f5f"
            },
            "marker": {
             "line": {
              "color": "#E5ECF6",
              "width": 0.5
             }
            },
            "type": "bar"
           }
          ],
          "barpolar": [
           {
            "marker": {
             "line": {
              "color": "#E5ECF6",
              "width": 0.5
             }
            },
            "type": "barpolar"
           }
          ],
          "carpet": [
           {
            "aaxis": {
             "endlinecolor": "#2a3f5f",
             "gridcolor": "white",
             "linecolor": "white",
             "minorgridcolor": "white",
             "startlinecolor": "#2a3f5f"
            },
            "baxis": {
             "endlinecolor": "#2a3f5f",
             "gridcolor": "white",
             "linecolor": "white",
             "minorgridcolor": "white",
             "startlinecolor": "#2a3f5f"
            },
            "type": "carpet"
           }
          ],
          "choropleth": [
           {
            "colorbar": {
             "outlinewidth": 0,
             "ticks": ""
            },
            "type": "choropleth"
           }
          ],
          "contour": [
           {
            "colorbar": {
             "outlinewidth": 0,
             "ticks": ""
            },
            "colorscale": [
             [
              0,
              "#0d0887"
             ],
             [
              0.1111111111111111,
              "#46039f"
             ],
             [
              0.2222222222222222,
              "#7201a8"
             ],
             [
              0.3333333333333333,
              "#9c179e"
             ],
             [
              0.4444444444444444,
              "#bd3786"
             ],
             [
              0.5555555555555556,
              "#d8576b"
             ],
             [
              0.6666666666666666,
              "#ed7953"
             ],
             [
              0.7777777777777778,
              "#fb9f3a"
             ],
             [
              0.8888888888888888,
              "#fdca26"
             ],
             [
              1,
              "#f0f921"
             ]
            ],
            "type": "contour"
           }
          ],
          "contourcarpet": [
           {
            "colorbar": {
             "outlinewidth": 0,
             "ticks": ""
            },
            "type": "contourcarpet"
           }
          ],
          "heatmap": [
           {
            "colorbar": {
             "outlinewidth": 0,
             "ticks": ""
            },
            "colorscale": [
             [
              0,
              "#0d0887"
             ],
             [
              0.1111111111111111,
              "#46039f"
             ],
             [
              0.2222222222222222,
              "#7201a8"
             ],
             [
              0.3333333333333333,
              "#9c179e"
             ],
             [
              0.4444444444444444,
              "#bd3786"
             ],
             [
              0.5555555555555556,
              "#d8576b"
             ],
             [
              0.6666666666666666,
              "#ed7953"
             ],
             [
              0.7777777777777778,
              "#fb9f3a"
             ],
             [
              0.8888888888888888,
              "#fdca26"
             ],
             [
              1,
              "#f0f921"
             ]
            ],
            "type": "heatmap"
           }
          ],
          "heatmapgl": [
           {
            "colorbar": {
             "outlinewidth": 0,
             "ticks": ""
            },
            "colorscale": [
             [
              0,
              "#0d0887"
             ],
             [
              0.1111111111111111,
              "#46039f"
             ],
             [
              0.2222222222222222,
              "#7201a8"
             ],
             [
              0.3333333333333333,
              "#9c179e"
             ],
             [
              0.4444444444444444,
              "#bd3786"
             ],
             [
              0.5555555555555556,
              "#d8576b"
             ],
             [
              0.6666666666666666,
              "#ed7953"
             ],
             [
              0.7777777777777778,
              "#fb9f3a"
             ],
             [
              0.8888888888888888,
              "#fdca26"
             ],
             [
              1,
              "#f0f921"
             ]
            ],
            "type": "heatmapgl"
           }
          ],
          "histogram": [
           {
            "marker": {
             "colorbar": {
              "outlinewidth": 0,
              "ticks": ""
             }
            },
            "type": "histogram"
           }
          ],
          "histogram2d": [
           {
            "colorbar": {
             "outlinewidth": 0,
             "ticks": ""
            },
            "colorscale": [
             [
              0,
              "#0d0887"
             ],
             [
              0.1111111111111111,
              "#46039f"
             ],
             [
              0.2222222222222222,
              "#7201a8"
             ],
             [
              0.3333333333333333,
              "#9c179e"
             ],
             [
              0.4444444444444444,
              "#bd3786"
             ],
             [
              0.5555555555555556,
              "#d8576b"
             ],
             [
              0.6666666666666666,
              "#ed7953"
             ],
             [
              0.7777777777777778,
              "#fb9f3a"
             ],
             [
              0.8888888888888888,
              "#fdca26"
             ],
             [
              1,
              "#f0f921"
             ]
            ],
            "type": "histogram2d"
           }
          ],
          "histogram2dcontour": [
           {
            "colorbar": {
             "outlinewidth": 0,
             "ticks": ""
            },
            "colorscale": [
             [
              0,
              "#0d0887"
             ],
             [
              0.1111111111111111,
              "#46039f"
             ],
             [
              0.2222222222222222,
              "#7201a8"
             ],
             [
              0.3333333333333333,
              "#9c179e"
             ],
             [
              0.4444444444444444,
              "#bd3786"
             ],
             [
              0.5555555555555556,
              "#d8576b"
             ],
             [
              0.6666666666666666,
              "#ed7953"
             ],
             [
              0.7777777777777778,
              "#fb9f3a"
             ],
             [
              0.8888888888888888,
              "#fdca26"
             ],
             [
              1,
              "#f0f921"
             ]
            ],
            "type": "histogram2dcontour"
           }
          ],
          "mesh3d": [
           {
            "colorbar": {
             "outlinewidth": 0,
             "ticks": ""
            },
            "type": "mesh3d"
           }
          ],
          "parcoords": [
           {
            "line": {
             "colorbar": {
              "outlinewidth": 0,
              "ticks": ""
             }
            },
            "type": "parcoords"
           }
          ],
          "pie": [
           {
            "automargin": true,
            "type": "pie"
           }
          ],
          "scatter": [
           {
            "marker": {
             "colorbar": {
              "outlinewidth": 0,
              "ticks": ""
             }
            },
            "type": "scatter"
           }
          ],
          "scatter3d": [
           {
            "line": {
             "colorbar": {
              "outlinewidth": 0,
              "ticks": ""
             }
            },
            "marker": {
             "colorbar": {
              "outlinewidth": 0,
              "ticks": ""
             }
            },
            "type": "scatter3d"
           }
          ],
          "scattercarpet": [
           {
            "marker": {
             "colorbar": {
              "outlinewidth": 0,
              "ticks": ""
             }
            },
            "type": "scattercarpet"
           }
          ],
          "scattergeo": [
           {
            "marker": {
             "colorbar": {
              "outlinewidth": 0,
              "ticks": ""
             }
            },
            "type": "scattergeo"
           }
          ],
          "scattergl": [
           {
            "marker": {
             "colorbar": {
              "outlinewidth": 0,
              "ticks": ""
             }
            },
            "type": "scattergl"
           }
          ],
          "scattermapbox": [
           {
            "marker": {
             "colorbar": {
              "outlinewidth": 0,
              "ticks": ""
             }
            },
            "type": "scattermapbox"
           }
          ],
          "scatterpolar": [
           {
            "marker": {
             "colorbar": {
              "outlinewidth": 0,
              "ticks": ""
             }
            },
            "type": "scatterpolar"
           }
          ],
          "scatterpolargl": [
           {
            "marker": {
             "colorbar": {
              "outlinewidth": 0,
              "ticks": ""
             }
            },
            "type": "scatterpolargl"
           }
          ],
          "scatterternary": [
           {
            "marker": {
             "colorbar": {
              "outlinewidth": 0,
              "ticks": ""
             }
            },
            "type": "scatterternary"
           }
          ],
          "surface": [
           {
            "colorbar": {
             "outlinewidth": 0,
             "ticks": ""
            },
            "colorscale": [
             [
              0,
              "#0d0887"
             ],
             [
              0.1111111111111111,
              "#46039f"
             ],
             [
              0.2222222222222222,
              "#7201a8"
             ],
             [
              0.3333333333333333,
              "#9c179e"
             ],
             [
              0.4444444444444444,
              "#bd3786"
             ],
             [
              0.5555555555555556,
              "#d8576b"
             ],
             [
              0.6666666666666666,
              "#ed7953"
             ],
             [
              0.7777777777777778,
              "#fb9f3a"
             ],
             [
              0.8888888888888888,
              "#fdca26"
             ],
             [
              1,
              "#f0f921"
             ]
            ],
            "type": "surface"
           }
          ],
          "table": [
           {
            "cells": {
             "fill": {
              "color": "#EBF0F8"
             },
             "line": {
              "color": "white"
             }
            },
            "header": {
             "fill": {
              "color": "#C8D4E3"
             },
             "line": {
              "color": "white"
             }
            },
            "type": "table"
           }
          ]
         },
         "layout": {
          "annotationdefaults": {
           "arrowcolor": "#2a3f5f",
           "arrowhead": 0,
           "arrowwidth": 1
          },
          "autotypenumbers": "strict",
          "coloraxis": {
           "colorbar": {
            "outlinewidth": 0,
            "ticks": ""
           }
          },
          "colorscale": {
           "diverging": [
            [
             0,
             "#8e0152"
            ],
            [
             0.1,
             "#c51b7d"
            ],
            [
             0.2,
             "#de77ae"
            ],
            [
             0.3,
             "#f1b6da"
            ],
            [
             0.4,
             "#fde0ef"
            ],
            [
             0.5,
             "#f7f7f7"
            ],
            [
             0.6,
             "#e6f5d0"
            ],
            [
             0.7,
             "#b8e186"
            ],
            [
             0.8,
             "#7fbc41"
            ],
            [
             0.9,
             "#4d9221"
            ],
            [
             1,
             "#276419"
            ]
           ],
           "sequential": [
            [
             0,
             "#0d0887"
            ],
            [
             0.1111111111111111,
             "#46039f"
            ],
            [
             0.2222222222222222,
             "#7201a8"
            ],
            [
             0.3333333333333333,
             "#9c179e"
            ],
            [
             0.4444444444444444,
             "#bd3786"
            ],
            [
             0.5555555555555556,
             "#d8576b"
            ],
            [
             0.6666666666666666,
             "#ed7953"
            ],
            [
             0.7777777777777778,
             "#fb9f3a"
            ],
            [
             0.8888888888888888,
             "#fdca26"
            ],
            [
             1,
             "#f0f921"
            ]
           ],
           "sequentialminus": [
            [
             0,
             "#0d0887"
            ],
            [
             0.1111111111111111,
             "#46039f"
            ],
            [
             0.2222222222222222,
             "#7201a8"
            ],
            [
             0.3333333333333333,
             "#9c179e"
            ],
            [
             0.4444444444444444,
             "#bd3786"
            ],
            [
             0.5555555555555556,
             "#d8576b"
            ],
            [
             0.6666666666666666,
             "#ed7953"
            ],
            [
             0.7777777777777778,
             "#fb9f3a"
            ],
            [
             0.8888888888888888,
             "#fdca26"
            ],
            [
             1,
             "#f0f921"
            ]
           ]
          },
          "colorway": [
           "#636efa",
           "#EF553B",
           "#00cc96",
           "#ab63fa",
           "#FFA15A",
           "#19d3f3",
           "#FF6692",
           "#B6E880",
           "#FF97FF",
           "#FECB52"
          ],
          "font": {
           "color": "#2a3f5f"
          },
          "geo": {
           "bgcolor": "white",
           "lakecolor": "white",
           "landcolor": "#E5ECF6",
           "showlakes": true,
           "showland": true,
           "subunitcolor": "white"
          },
          "hoverlabel": {
           "align": "left"
          },
          "hovermode": "closest",
          "mapbox": {
           "style": "light"
          },
          "paper_bgcolor": "white",
          "plot_bgcolor": "#E5ECF6",
          "polar": {
           "angularaxis": {
            "gridcolor": "white",
            "linecolor": "white",
            "ticks": ""
           },
           "bgcolor": "#E5ECF6",
           "radialaxis": {
            "gridcolor": "white",
            "linecolor": "white",
            "ticks": ""
           }
          },
          "scene": {
           "xaxis": {
            "backgroundcolor": "#E5ECF6",
            "gridcolor": "white",
            "gridwidth": 2,
            "linecolor": "white",
            "showbackground": true,
            "ticks": "",
            "zerolinecolor": "white"
           },
           "yaxis": {
            "backgroundcolor": "#E5ECF6",
            "gridcolor": "white",
            "gridwidth": 2,
            "linecolor": "white",
            "showbackground": true,
            "ticks": "",
            "zerolinecolor": "white"
           },
           "zaxis": {
            "backgroundcolor": "#E5ECF6",
            "gridcolor": "white",
            "gridwidth": 2,
            "linecolor": "white",
            "showbackground": true,
            "ticks": "",
            "zerolinecolor": "white"
           }
          },
          "shapedefaults": {
           "line": {
            "color": "#2a3f5f"
           }
          },
          "ternary": {
           "aaxis": {
            "gridcolor": "white",
            "linecolor": "white",
            "ticks": ""
           },
           "baxis": {
            "gridcolor": "white",
            "linecolor": "white",
            "ticks": ""
           },
           "bgcolor": "#E5ECF6",
           "caxis": {
            "gridcolor": "white",
            "linecolor": "white",
            "ticks": ""
           }
          },
          "title": {
           "x": 0.05
          },
          "xaxis": {
           "automargin": true,
           "gridcolor": "white",
           "linecolor": "white",
           "ticks": "",
           "title": {
            "standoff": 15
           },
           "zerolinecolor": "white",
           "zerolinewidth": 2
          },
          "yaxis": {
           "automargin": true,
           "gridcolor": "white",
           "linecolor": "white",
           "ticks": "",
           "title": {
            "standoff": 15
           },
           "zerolinecolor": "white",
           "zerolinewidth": 2
          }
         }
        },
        "title": {
         "text": "US Accidents by State (Feb 2016—Dec 2020)",
         "x": 0.5
        }
       }
      },
      "text/html": [
       "<div>                            <div id=\"f4ea1266-bbcb-4c95-b6b8-33b4431375b1\" class=\"plotly-graph-div\" style=\"height:525px; width:100%;\"></div>            <script type=\"text/javascript\">                require([\"plotly\"], function(Plotly) {                    window.PLOTLYENV=window.PLOTLYENV || {};                                    if (document.getElementById(\"f4ea1266-bbcb-4c95-b6b8-33b4431375b1\")) {                    Plotly.newPlot(                        \"f4ea1266-bbcb-4c95-b6b8-33b4431375b1\",                        [{\"colorbar\": {\"title\": {\"text\": \"Count\"}}, \"colorscale\": [[0.0, \"rgb(252, 222, 156)\"], [0.16666666666666666, \"rgb(250, 164, 118)\"], [0.3333333333333333, \"rgb(240, 116, 110)\"], [0.5, \"rgb(227, 79, 111)\"], [0.6666666666666666, \"rgb(220, 57, 119)\"], [0.8333333333333334, \"rgb(185, 37, 122)\"], [1.0, \"rgb(124, 29, 111)\"]], \"locationmode\": \"USA-states\", \"locations\": [\"SC\", \"AZ\", \"LA\", \"MN\", \"NJ\", \"DC\", \"OR\", \"VA\", \"RI\", \"KY\", \"WY\", \"NH\", \"MI\", \"NV\", \"WI\", \"ID\", \"CA\", \"NE\", \"CT\", \"MT\", \"NC\", \"VT\", \"MD\", \"DE\", \"MO\", \"IL\", \"ME\", \"WA\", \"ND\", \"MS\", \"AL\", \"IN\", \"OH\", \"TN\", \"IA\", \"NM\", \"PA\", \"SD\", \"NY\", \"TX\", \"WV\", \"GA\", \"MA\", \"KS\", \"FL\", \"CO\", \"AR\", \"OK\", \"UT\"], \"type\": \"choropleth\", \"z\": [212712, 93103, 80560, 105497, 69167, 6511, 108352, 127949, 12911, 24713, 521, 8559, 105772, 12023, 21519, 4251, 972585, 25006, 32520, 3357, 193457, 771, 69958, 6908, 40153, 111712, 2346, 74705, 469, 8055, 57017, 38114, 73161, 88495, 14205, 6462, 136049, 220, 189513, 376445, 3617, 107116, 44115, 9738, 370131, 54035, 5105, 64871, 58010]}],                        {\"font\": {\"color\": \"#000000\", \"family\": \"Verdana\", \"size\": 12}, \"geo\": {\"scope\": \"usa\"}, \"template\": {\"data\": {\"bar\": [{\"error_x\": {\"color\": \"#2a3f5f\"}, \"error_y\": {\"color\": \"#2a3f5f\"}, \"marker\": {\"line\": {\"color\": \"#E5ECF6\", \"width\": 0.5}}, \"type\": \"bar\"}], \"barpolar\": [{\"marker\": {\"line\": {\"color\": \"#E5ECF6\", \"width\": 0.5}}, \"type\": \"barpolar\"}], \"carpet\": [{\"aaxis\": {\"endlinecolor\": \"#2a3f5f\", \"gridcolor\": \"white\", \"linecolor\": \"white\", \"minorgridcolor\": \"white\", \"startlinecolor\": \"#2a3f5f\"}, \"baxis\": {\"endlinecolor\": \"#2a3f5f\", \"gridcolor\": \"white\", \"linecolor\": \"white\", \"minorgridcolor\": \"white\", \"startlinecolor\": \"#2a3f5f\"}, \"type\": \"carpet\"}], \"choropleth\": [{\"colorbar\": {\"outlinewidth\": 0, \"ticks\": \"\"}, \"type\": \"choropleth\"}], \"contour\": [{\"colorbar\": {\"outlinewidth\": 0, \"ticks\": \"\"}, \"colorscale\": [[0.0, \"#0d0887\"], [0.1111111111111111, \"#46039f\"], [0.2222222222222222, \"#7201a8\"], [0.3333333333333333, \"#9c179e\"], [0.4444444444444444, \"#bd3786\"], [0.5555555555555556, \"#d8576b\"], [0.6666666666666666, \"#ed7953\"], [0.7777777777777778, \"#fb9f3a\"], [0.8888888888888888, \"#fdca26\"], [1.0, \"#f0f921\"]], \"type\": \"contour\"}], \"contourcarpet\": [{\"colorbar\": {\"outlinewidth\": 0, \"ticks\": \"\"}, \"type\": \"contourcarpet\"}], \"heatmap\": [{\"colorbar\": {\"outlinewidth\": 0, \"ticks\": \"\"}, \"colorscale\": [[0.0, \"#0d0887\"], [0.1111111111111111, \"#46039f\"], [0.2222222222222222, \"#7201a8\"], [0.3333333333333333, \"#9c179e\"], [0.4444444444444444, \"#bd3786\"], [0.5555555555555556, \"#d8576b\"], [0.6666666666666666, \"#ed7953\"], [0.7777777777777778, \"#fb9f3a\"], [0.8888888888888888, \"#fdca26\"], [1.0, \"#f0f921\"]], \"type\": \"heatmap\"}], \"heatmapgl\": [{\"colorbar\": {\"outlinewidth\": 0, \"ticks\": \"\"}, \"colorscale\": [[0.0, \"#0d0887\"], [0.1111111111111111, \"#46039f\"], [0.2222222222222222, \"#7201a8\"], [0.3333333333333333, \"#9c179e\"], [0.4444444444444444, \"#bd3786\"], [0.5555555555555556, \"#d8576b\"], [0.6666666666666666, \"#ed7953\"], [0.7777777777777778, \"#fb9f3a\"], [0.8888888888888888, \"#fdca26\"], [1.0, \"#f0f921\"]], \"type\": \"heatmapgl\"}], \"histogram\": [{\"marker\": {\"colorbar\": {\"outlinewidth\": 0, \"ticks\": \"\"}}, \"type\": \"histogram\"}], \"histogram2d\": [{\"colorbar\": {\"outlinewidth\": 0, \"ticks\": \"\"}, \"colorscale\": [[0.0, \"#0d0887\"], [0.1111111111111111, \"#46039f\"], [0.2222222222222222, \"#7201a8\"], [0.3333333333333333, \"#9c179e\"], [0.4444444444444444, \"#bd3786\"], [0.5555555555555556, \"#d8576b\"], [0.6666666666666666, \"#ed7953\"], [0.7777777777777778, \"#fb9f3a\"], [0.8888888888888888, \"#fdca26\"], [1.0, \"#f0f921\"]], \"type\": \"histogram2d\"}], \"histogram2dcontour\": [{\"colorbar\": {\"outlinewidth\": 0, \"ticks\": \"\"}, \"colorscale\": [[0.0, \"#0d0887\"], [0.1111111111111111, \"#46039f\"], [0.2222222222222222, \"#7201a8\"], [0.3333333333333333, \"#9c179e\"], [0.4444444444444444, \"#bd3786\"], [0.5555555555555556, \"#d8576b\"], [0.6666666666666666, \"#ed7953\"], [0.7777777777777778, \"#fb9f3a\"], [0.8888888888888888, \"#fdca26\"], [1.0, \"#f0f921\"]], \"type\": \"histogram2dcontour\"}], \"mesh3d\": [{\"colorbar\": {\"outlinewidth\": 0, \"ticks\": \"\"}, \"type\": \"mesh3d\"}], \"parcoords\": [{\"line\": {\"colorbar\": {\"outlinewidth\": 0, \"ticks\": \"\"}}, \"type\": \"parcoords\"}], \"pie\": [{\"automargin\": true, \"type\": \"pie\"}], \"scatter\": [{\"marker\": {\"colorbar\": {\"outlinewidth\": 0, \"ticks\": \"\"}}, \"type\": \"scatter\"}], \"scatter3d\": [{\"line\": {\"colorbar\": {\"outlinewidth\": 0, \"ticks\": \"\"}}, \"marker\": {\"colorbar\": {\"outlinewidth\": 0, \"ticks\": \"\"}}, \"type\": \"scatter3d\"}], \"scattercarpet\": [{\"marker\": {\"colorbar\": {\"outlinewidth\": 0, \"ticks\": \"\"}}, \"type\": \"scattercarpet\"}], \"scattergeo\": [{\"marker\": {\"colorbar\": {\"outlinewidth\": 0, \"ticks\": \"\"}}, \"type\": \"scattergeo\"}], \"scattergl\": [{\"marker\": {\"colorbar\": {\"outlinewidth\": 0, \"ticks\": \"\"}}, \"type\": \"scattergl\"}], \"scattermapbox\": [{\"marker\": {\"colorbar\": {\"outlinewidth\": 0, \"ticks\": \"\"}}, \"type\": \"scattermapbox\"}], \"scatterpolar\": [{\"marker\": {\"colorbar\": {\"outlinewidth\": 0, \"ticks\": \"\"}}, \"type\": \"scatterpolar\"}], \"scatterpolargl\": [{\"marker\": {\"colorbar\": {\"outlinewidth\": 0, \"ticks\": \"\"}}, \"type\": \"scatterpolargl\"}], \"scatterternary\": [{\"marker\": {\"colorbar\": {\"outlinewidth\": 0, \"ticks\": \"\"}}, \"type\": \"scatterternary\"}], \"surface\": [{\"colorbar\": {\"outlinewidth\": 0, \"ticks\": \"\"}, \"colorscale\": [[0.0, \"#0d0887\"], [0.1111111111111111, \"#46039f\"], [0.2222222222222222, \"#7201a8\"], [0.3333333333333333, \"#9c179e\"], [0.4444444444444444, \"#bd3786\"], [0.5555555555555556, \"#d8576b\"], [0.6666666666666666, \"#ed7953\"], [0.7777777777777778, \"#fb9f3a\"], [0.8888888888888888, \"#fdca26\"], [1.0, \"#f0f921\"]], \"type\": \"surface\"}], \"table\": [{\"cells\": {\"fill\": {\"color\": \"#EBF0F8\"}, \"line\": {\"color\": \"white\"}}, \"header\": {\"fill\": {\"color\": \"#C8D4E3\"}, \"line\": {\"color\": \"white\"}}, \"type\": \"table\"}]}, \"layout\": {\"annotationdefaults\": {\"arrowcolor\": \"#2a3f5f\", \"arrowhead\": 0, \"arrowwidth\": 1}, \"autotypenumbers\": \"strict\", \"coloraxis\": {\"colorbar\": {\"outlinewidth\": 0, \"ticks\": \"\"}}, \"colorscale\": {\"diverging\": [[0, \"#8e0152\"], [0.1, \"#c51b7d\"], [0.2, \"#de77ae\"], [0.3, \"#f1b6da\"], [0.4, \"#fde0ef\"], [0.5, \"#f7f7f7\"], [0.6, \"#e6f5d0\"], [0.7, \"#b8e186\"], [0.8, \"#7fbc41\"], [0.9, \"#4d9221\"], [1, \"#276419\"]], \"sequential\": [[0.0, \"#0d0887\"], [0.1111111111111111, \"#46039f\"], [0.2222222222222222, \"#7201a8\"], [0.3333333333333333, \"#9c179e\"], [0.4444444444444444, \"#bd3786\"], [0.5555555555555556, \"#d8576b\"], [0.6666666666666666, \"#ed7953\"], [0.7777777777777778, \"#fb9f3a\"], [0.8888888888888888, \"#fdca26\"], [1.0, \"#f0f921\"]], \"sequentialminus\": [[0.0, \"#0d0887\"], [0.1111111111111111, \"#46039f\"], [0.2222222222222222, \"#7201a8\"], [0.3333333333333333, \"#9c179e\"], [0.4444444444444444, \"#bd3786\"], [0.5555555555555556, \"#d8576b\"], [0.6666666666666666, \"#ed7953\"], [0.7777777777777778, \"#fb9f3a\"], [0.8888888888888888, \"#fdca26\"], [1.0, \"#f0f921\"]]}, \"colorway\": [\"#636efa\", \"#EF553B\", \"#00cc96\", \"#ab63fa\", \"#FFA15A\", \"#19d3f3\", \"#FF6692\", \"#B6E880\", \"#FF97FF\", \"#FECB52\"], \"font\": {\"color\": \"#2a3f5f\"}, \"geo\": {\"bgcolor\": \"white\", \"lakecolor\": \"white\", \"landcolor\": \"#E5ECF6\", \"showlakes\": true, \"showland\": true, \"subunitcolor\": \"white\"}, \"hoverlabel\": {\"align\": \"left\"}, \"hovermode\": \"closest\", \"mapbox\": {\"style\": \"light\"}, \"paper_bgcolor\": \"white\", \"plot_bgcolor\": \"#E5ECF6\", \"polar\": {\"angularaxis\": {\"gridcolor\": \"white\", \"linecolor\": \"white\", \"ticks\": \"\"}, \"bgcolor\": \"#E5ECF6\", \"radialaxis\": {\"gridcolor\": \"white\", \"linecolor\": \"white\", \"ticks\": \"\"}}, \"scene\": {\"xaxis\": {\"backgroundcolor\": \"#E5ECF6\", \"gridcolor\": \"white\", \"gridwidth\": 2, \"linecolor\": \"white\", \"showbackground\": true, \"ticks\": \"\", \"zerolinecolor\": \"white\"}, \"yaxis\": {\"backgroundcolor\": \"#E5ECF6\", \"gridcolor\": \"white\", \"gridwidth\": 2, \"linecolor\": \"white\", \"showbackground\": true, \"ticks\": \"\", \"zerolinecolor\": \"white\"}, \"zaxis\": {\"backgroundcolor\": \"#E5ECF6\", \"gridcolor\": \"white\", \"gridwidth\": 2, \"linecolor\": \"white\", \"showbackground\": true, \"ticks\": \"\", \"zerolinecolor\": \"white\"}}, \"shapedefaults\": {\"line\": {\"color\": \"#2a3f5f\"}}, \"ternary\": {\"aaxis\": {\"gridcolor\": \"white\", \"linecolor\": \"white\", \"ticks\": \"\"}, \"baxis\": {\"gridcolor\": \"white\", \"linecolor\": \"white\", \"ticks\": \"\"}, \"bgcolor\": \"#E5ECF6\", \"caxis\": {\"gridcolor\": \"white\", \"linecolor\": \"white\", \"ticks\": \"\"}}, \"title\": {\"x\": 0.05}, \"xaxis\": {\"automargin\": true, \"gridcolor\": \"white\", \"linecolor\": \"white\", \"ticks\": \"\", \"title\": {\"standoff\": 15}, \"zerolinecolor\": \"white\", \"zerolinewidth\": 2}, \"yaxis\": {\"automargin\": true, \"gridcolor\": \"white\", \"linecolor\": \"white\", \"ticks\": \"\", \"title\": {\"standoff\": 15}, \"zerolinecolor\": \"white\", \"zerolinewidth\": 2}}}, \"title\": {\"text\": \"US Accidents by State (Feb 2016\\u2014Dec 2020)\", \"x\": 0.5}},                        {\"responsive\": true}                    ).then(function(){\n",
       "                            \n",
       "var gd = document.getElementById('f4ea1266-bbcb-4c95-b6b8-33b4431375b1');\n",
       "var x = new MutationObserver(function (mutations, observer) {{\n",
       "        var display = window.getComputedStyle(gd).display;\n",
       "        if (!display || display === 'none') {{\n",
       "            console.log([gd, 'removed!']);\n",
       "            Plotly.purge(gd);\n",
       "            observer.disconnect();\n",
       "        }}\n",
       "}});\n",
       "\n",
       "// Listen for the removal of the full notebook cells\n",
       "var notebookContainer = gd.closest('#notebook-container');\n",
       "if (notebookContainer) {{\n",
       "    x.observe(notebookContainer, {childList: true});\n",
       "}}\n",
       "\n",
       "// Listen for the clearing of the current output cell\n",
       "var outputEl = gd.closest('.output');\n",
       "if (outputEl) {{\n",
       "    x.observe(outputEl, {childList: true});\n",
       "}}\n",
       "\n",
       "                        })                };                });            </script>        </div>"
      ]
     },
     "metadata": {},
     "output_type": "display_data"
    }
   ],
   "source": [
    "def build_states_graph(df):\n",
    "    data = df.groupBy(\"State\").count().filter(col('State') != 'null').collect()\n",
    "    states = [row['State'] for row in data]\n",
    "    state_counts = [row['count'] for row in data]\n",
    "\n",
    "    fig = go.Figure(\n",
    "        data=go.Choropleth(\n",
    "            locations = states,\n",
    "            z = state_counts,\n",
    "            locationmode = 'USA-states',\n",
    "            colorscale = 'SunsetDark',\n",
    "            colorbar_title = \"Count\"),\n",
    "        layout=go.Layout(\n",
    "            title_text='US Accidents by State (Feb 2016—Dec 2020)',\n",
    "            title_x=0.5,\n",
    "            font=dict(family='Verdana', size=12, color='#000000'),\n",
    "            geo_scope='usa'))\n",
    "\n",
    "    fig.show()\n",
    "    \n",
    "build_states_graph(root_accidents_data)"
   ]
  },
  {
   "cell_type": "markdown",
   "id": "dirty-snake",
   "metadata": {},
   "source": [
    "Roads often get blocked for maintanance, there are a lot of unkown external factors besides all the given information. People in US states are also very different in their cultural values, mindsets. The problem of traffic is the most prevalent in California, as can be seen above so to make estimates more precise we will also filter by California State"
   ]
  },
  {
   "cell_type": "code",
   "execution_count": 101,
   "id": "informational-awareness",
   "metadata": {},
   "outputs": [
    {
     "data": {
      "text/plain": [
       "522699"
      ]
     },
     "execution_count": 101,
     "metadata": {},
     "output_type": "execute_result"
    }
   ],
   "source": [
    "root_accidents_data = root_accidents_data.filter(col('State') == 'CA').filter((col('year') == 2019) | ((col('year') == 2020)))\n",
    "root_accidents_data.count()"
   ]
  },
  {
   "cell_type": "markdown",
   "id": "recent-criticism",
   "metadata": {},
   "source": [
    "There is a clear dataset imbalance problem we have to deal with"
   ]
  },
  {
   "cell_type": "code",
   "execution_count": 102,
   "id": "secret-particle",
   "metadata": {},
   "outputs": [
    {
     "data": {
      "image/png": "[encoded data removed]",
      "text/plain": [
       "<Figure size 432x288 with 1 Axes>"
      ]
     },
     "metadata": {},
     "output_type": "display_data"
    },
    {
     "name": "stdout",
     "output_type": "stream",
     "text": [
      "[('3', 68629), ('1', 5585), ('4', 4467), ('2', 444018)]\n"
     ]
    }
   ],
   "source": [
    "display_piechart_of_column(root_accidents_data, 'Severity')"
   ]
  },
  {
   "cell_type": "markdown",
   "id": "liquid-harassment",
   "metadata": {},
   "source": [
    "'Severity' is largely dominated by class '2'. To solve this, we will oversample the minority classes and undersample majority."
   ]
  },
  {
   "cell_type": "code",
   "execution_count": 103,
   "id": "growing-music",
   "metadata": {},
   "outputs": [
    {
     "data": {
      "image/png": "[encoded data removed]",
      "text/plain": [
       "<Figure size 432x288 with 1 Axes>"
      ]
     },
     "metadata": {},
     "output_type": "display_data"
    },
    {
     "name": "stdout",
     "output_type": "stream",
     "text": [
      "[('3', 61631), ('1', 55850), ('4', 44670), ('2', 62182)]\n"
     ]
    }
   ],
   "source": [
    "a = range(10)\n",
    "sev_1 = root_accidents_data.filter(col('Severity') == 1).withColumn(\"dummy\", explode(array([lit(x) for x in a]))).drop('dummy')\n",
    "sev_2 = root_accidents_data.filter(col('Severity') == 2).sample(0.14, seed)\n",
    "sev_3 = root_accidents_data.filter(col('Severity') == 3).sample(0.9, seed)\n",
    "sev_4 = root_accidents_data.filter(col('Severity') == 4).withColumn(\"dummy\", explode(array([lit(x) for x in a]))).drop('dummy')\n",
    "balanced_dataset = sev_1.unionAll(sev_2).unionAll(sev_3).unionAll(sev_4)\n",
    "#balanced_dataset = balanced_dataset.sampleBy('Severity', {1: 1.0, 2: 0.3, 3: 1.0, 4: 1.0}, seed=seed)\n",
    "display_piechart_of_column(balanced_dataset, 'Severity')"
   ]
  },
  {
   "cell_type": "markdown",
   "id": "worthy-effect",
   "metadata": {},
   "source": [
    "Now the Severity class is much more balanced"
   ]
  },
  {
   "cell_type": "markdown",
   "id": "comparable-immigration",
   "metadata": {},
   "source": [
    "# Modeling"
   ]
  },
  {
   "cell_type": "code",
   "execution_count": 104,
   "id": "brutal-backing",
   "metadata": {},
   "outputs": [],
   "source": [
    "def test_model(estimator, is_classification, dataframe, categorical_features, continuous_features, label_to_predict, seed):\n",
    "    #only select specified columns for featurization\n",
    "    dataframe = dataframe.select(label_to_predict, *categorical_features, *continuous_features).dropna()\n",
    "    #featurize columns, convert categorical into vectors\n",
    "    label_features_df = df_to_label_features(dataframe, label_to_predict, categorical_features, continuous_features)\n",
    "    (training, test) = label_features_df.randomSplit([0.8, 0.2], seed)\n",
    "\n",
    "    #train and fit\n",
    "    model = estimator.fit(training)\n",
    "    predictions_labels = model.transform(test)\n",
    "    predictions_labels.show()\n",
    "\n",
    "    #evaluate\n",
    "    print_metrics(predictions_labels, is_classification)\n",
    "\n",
    "#helper functions for regression/classification\n",
    "def df_to_label_features(dataframe, label_to_predict, categorical_features, continuous_features):\n",
    "    # stages = build_pipeline_stages(categorical_features, continuous_features)\n",
    "    # pipelined_dataframe = pipeline_dataframe(stages, dataframe)\n",
    "    hasher = FeatureHasher(inputCols=[*categorical_features, *continuous_features], outputCol='features')\n",
    "    featurized = hasher.transform(dataframe)\n",
    "    label_features = featurized.select(label_to_predict, 'features').withColumnRenamed(label_to_predict, 'label')\n",
    "    return label_features\n",
    "\n",
    "\n",
    "\n",
    "def print_metrics(predictions, is_classification):\n",
    "    evaluator = None\n",
    "    if is_classification:\n",
    "        evaluator = MulticlassClassificationEvaluator()\n",
    "        metrics = ['accuracy', 'f1']\n",
    "    else:\n",
    "        evaluator = RegressionEvaluator()\n",
    "        metrics = ['rmse']\n",
    "    for metric in metrics:\n",
    "        evaluation = evaluator.evaluate(predictions, {evaluator.metricName: metric})\n",
    "        print(f'{metric}: {evaluation}')\n",
    "        "
   ]
  },
  {
   "cell_type": "code",
   "execution_count": 109,
   "id": "laughing-reason",
   "metadata": {
    "scrolled": true
   },
   "outputs": [
    {
     "name": "stdout",
     "output_type": "stream",
     "text": [
      "+-----+--------------------+--------------------+--------------------+----------+\n",
      "|label|            features|       rawPrediction|         probability|prediction|\n",
      "+-----+--------------------+--------------------+--------------------+----------+\n",
      "|    1|(262144,[75181,84...|[-511.27435149462...|[6.05466659389700...|       2.0|\n",
      "|    1|(262144,[75181,12...|[-511.27413984783...|[6.33084744599559...|       2.0|\n",
      "|    1|(262144,[75181,12...|[-511.27413984783...|[6.33084744599559...|       2.0|\n",
      "|    1|(262144,[75181,20...|[-511.27419477095...|[3.07362982870111...|       2.0|\n",
      "|    1|(262144,[23406,75...|[-511.27399341889...|[6.22418878312961...|       1.0|\n",
      "|    1|(262144,[23406,75...|[-511.27399341889...|[6.22418878312961...|       1.0|\n",
      "|    1|(262144,[23406,75...|[-511.27399341889...|[6.22418878312961...|       1.0|\n",
      "|    1|(262144,[52274,75...|[-511.27421705383...|[5.70784119559118...|       1.0|\n",
      "|    1|(262144,[52274,75...|[-511.27421705383...|[5.70784119559118...|       1.0|\n",
      "|    1|(262144,[52274,75...|[-511.27421705383...|[5.70784119559118...|       1.0|\n",
      "|    1|(262144,[52274,75...|[-511.27410076130...|[6.32076586599712...|       1.0|\n",
      "|    1|(262144,[52274,75...|[-511.27409494171...|[6.73231233342834...|       1.0|\n",
      "|    1|(262144,[52274,75...|[-511.27409494171...|[6.73231233342834...|       1.0|\n",
      "|    1|(262144,[52274,75...|[-511.27409494171...|[6.73231233342834...|       1.0|\n",
      "|    1|(262144,[52274,75...|[-511.27409494171...|[6.73231233342834...|       1.0|\n",
      "|    1|(262144,[75181,90...|[-511.27407816287...|[6.45910651813859...|       1.0|\n",
      "|    1|(262144,[75181,90...|[-511.27407816287...|[6.45910651813859...|       1.0|\n",
      "|    1|(262144,[75181,90...|[-511.27418661884...|[6.67595555354198...|       1.0|\n",
      "|    1|(262144,[75181,90...|[-511.27418387071...|[6.64971493389508...|       1.0|\n",
      "|    1|(262144,[75181,90...|[-511.27418387071...|[6.64971493389508...|       1.0|\n",
      "+-----+--------------------+--------------------+--------------------+----------+\n",
      "only showing top 20 rows\n",
      "\n",
      "accuracy: 0.43226085373623374\n",
      "f1: 0.3698848464716733\n"
     ]
    }
   ],
   "source": [
    "test_model(LogisticRegression(maxIter=100), True, balanced_dataset, \\\n",
    "           ['Weather_Condition', 'weekday'], ['hour_minutes', 'year', 'month', 'day'], 'Severity', seed)"
   ]
  },
  {
   "cell_type": "markdown",
   "id": "fallen-burke",
   "metadata": {},
   "source": [
    "As we can see on the dataset below, providing Side, improves confidence of the model in the prediction, while the accuracy is about the smae, the f1 measure went up by 2%"
   ]
  },
  {
   "cell_type": "code",
   "execution_count": 107,
   "id": "floating-charm",
   "metadata": {},
   "outputs": [
    {
     "name": "stdout",
     "output_type": "stream",
     "text": [
      "+-----+--------------------+--------------------+--------------------+----------+\n",
      "|label|            features|       rawPrediction|         probability|prediction|\n",
      "+-----+--------------------+--------------------+--------------------+----------+\n",
      "|    1|(262144,[75181,84...|[-426.21715159954...|[9.21852276840780...|       2.0|\n",
      "|    1|(262144,[75181,12...|[-426.21697555020...|[9.5680351903652E...|       2.0|\n",
      "|    1|(262144,[75181,12...|[-426.21697555020...|[9.5680351903652E...|       2.0|\n",
      "|    1|(262144,[75181,20...|[-426.21702121050...|[5.27312843144758...|       2.0|\n",
      "|    1|(262144,[23406,75...|[-426.21685380015...|[9.29068919294588...|       1.0|\n",
      "|    1|(262144,[23406,75...|[-426.21685380015...|[9.29068919294588...|       1.0|\n",
      "|    1|(262144,[23406,75...|[-426.21685380015...|[9.29068919294588...|       1.0|\n",
      "|    1|(262144,[52274,75...|[-426.21673300704...|[8.46174308393801...|       1.0|\n",
      "|    1|(262144,[52274,75...|[-426.21673300704...|[8.46174308393801...|       1.0|\n",
      "|    1|(262144,[52274,75...|[-426.21673300704...|[8.46174308393801...|       1.0|\n",
      "|    1|(262144,[52274,75...|[-426.21672814252...|[8.86291748605500...|       1.0|\n",
      "|    1|(262144,[52274,75...|[-426.21703987857...|[8.92503676668583...|       1.0|\n",
      "|    1|(262144,[52274,75...|[-426.21703987857...|[8.92503676668583...|       1.0|\n",
      "|    1|(262144,[52274,75...|[-426.21703987857...|[8.92503676668583...|       1.0|\n",
      "|    1|(262144,[52274,75...|[-426.21703987857...|[8.92503676668583...|       1.0|\n",
      "|    1|(262144,[75181,78...|[-426.21681587245...|[6.64567717321014...|       1.0|\n",
      "|    1|(262144,[75181,78...|[-426.21681587245...|[6.64567717321014...|       1.0|\n",
      "|    1|(262144,[75181,78...|[-426.01006713350...|[7.8916328145647E...|       2.0|\n",
      "|    1|(262144,[75181,78...|[-426.21676100185...|[8.51101602088674...|       1.0|\n",
      "|    1|(262144,[75181,78...|[-426.21676100185...|[8.51101602088674...|       1.0|\n",
      "+-----+--------------------+--------------------+--------------------+----------+\n",
      "only showing top 20 rows\n",
      "\n",
      "accuracy: 0.43692545735869665\n",
      "f1: 0.39047875247290914\n"
     ]
    }
   ],
   "source": [
    "test_model(LogisticRegression(maxIter=100), True, balanced_dataset, \\\n",
    "           ['Weather_Condition', 'weekday', 'Side'], ['hour_minutes', 'year', 'month', 'day'], 'Severity', seed)"
   ]
  }
 ],
 "metadata": {
  "kernelspec": {
   "display_name": "biggyTraffic",
   "language": "python",
   "name": "biggytraffic"
  },
  "language_info": {
   "codemirror_mode": {
    "name": "ipython",
    "version": 3
   },
   "file_extension": ".py",
   "mimetype": "text/x-python",
   "name": "python",
   "nbconvert_exporter": "python",
   "pygments_lexer": "ipython3",
   "version": "3.9.1"
  }
 },
 "nbformat": 4,
 "nbformat_minor": 5
}
