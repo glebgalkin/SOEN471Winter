{
 "cells": [
  {
   "cell_type": "markdown",
   "id": "automatic-packet",
   "metadata": {},
   "source": [
    "# Imports, spark init, dataset read"
   ]
  },
  {
   "cell_type": "code",
   "execution_count": 30,
   "id": "outside-guard",
   "metadata": {},
   "outputs": [],
   "source": [
    "from pyspark.sql import SparkSession\n",
    "\n",
    "import numpy as np\n",
    "from pyspark.sql.functions import col\n",
    "import pyspark.sql.functions as sql_func\n",
    "from pyspark.sql.types import StructType, StructField, StringType, TimestampType, IntegerType, FloatType, BooleanType\n",
    "from functools import reduce\n",
    "import matplotlib.pyplot as plt\n",
    "from pyspark.sql import DataFrame\n",
    "from pyspark.sql.functions import col"
   ]
  },
  {
   "cell_type": "code",
   "execution_count": 31,
   "id": "becoming-microwave",
   "metadata": {},
   "outputs": [],
   "source": [
    "def init_spark():\n",
    "    spark = SparkSession \\\n",
    "        .builder \\\n",
    "        .master('local[*]')\\\n",
    "        .appName(\"Python Spark SQL basic example\") \\\n",
    "        .config(\"spark.driver.memory\", \"15g\")\\\n",
    "        .getOrCreate()\n",
    "    return spark"
   ]
  },
  {
   "cell_type": "markdown",
   "id": "danish-source",
   "metadata": {},
   "source": [
    "We do not need 'Country' column, since it only has one value, it is clear we work in the scope of USA, \n",
    "'id' provides no relevant information either, so can be dropped\n",
    "\n",
    "We also add a year column to easily distinguish on when the specific accdent occured"
   ]
  },
  {
   "cell_type": "code",
   "execution_count": 32,
   "id": "closed-richardson",
   "metadata": {},
   "outputs": [],
   "source": [
    "def read_dataset(filename):\n",
    "    spark = init_spark()\n",
    "    total_accidents_data = spark.read.csv(filename, header=True, mode=\"DROPMALFORMED\", encoding=\"ISO-8859-1\", inferSchema=True)\n",
    "    # dropped meaningless and 1 class only columns\n",
    "    final_result = total_accidents_data.drop('Country').drop('id')\\\n",
    "        .withColumn('start_year', sql_func.date_format(total_accidents_data.Start_Time, 'y'))\n",
    "      \n",
    "    return final_result"
   ]
  },
  {
   "cell_type": "code",
   "execution_count": 33,
   "id": "crude-joshua",
   "metadata": {},
   "outputs": [
    {
     "name": "stdout",
     "output_type": "stream",
     "text": [
      "root\n",
      " |-- Source: string (nullable = true)\n",
      " |-- TMC: double (nullable = true)\n",
      " |-- Severity: integer (nullable = true)\n",
      " |-- Start_Time: string (nullable = true)\n",
      " |-- End_Time: string (nullable = true)\n",
      " |-- Start_Lat: double (nullable = true)\n",
      " |-- Start_Lng: double (nullable = true)\n",
      " |-- End_Lat: double (nullable = true)\n",
      " |-- End_Lng: double (nullable = true)\n",
      " |-- Distance(mi): double (nullable = true)\n",
      " |-- Description: string (nullable = true)\n",
      " |-- Number: double (nullable = true)\n",
      " |-- Street: string (nullable = true)\n",
      " |-- Side: string (nullable = true)\n",
      " |-- City: string (nullable = true)\n",
      " |-- County: string (nullable = true)\n",
      " |-- State: string (nullable = true)\n",
      " |-- Zipcode: string (nullable = true)\n",
      " |-- Timezone: string (nullable = true)\n",
      " |-- Airport_Code: string (nullable = true)\n",
      " |-- Weather_Timestamp: string (nullable = true)\n",
      " |-- Temperature(F): double (nullable = true)\n",
      " |-- Wind_Chill(F): double (nullable = true)\n",
      " |-- Humidity(%): double (nullable = true)\n",
      " |-- Pressure(in): double (nullable = true)\n",
      " |-- Visibility(mi): double (nullable = true)\n",
      " |-- Wind_Direction: string (nullable = true)\n",
      " |-- Wind_Speed(mph): double (nullable = true)\n",
      " |-- Precipitation(in): double (nullable = true)\n",
      " |-- Weather_Condition: string (nullable = true)\n",
      " |-- Amenity: boolean (nullable = true)\n",
      " |-- Bump: boolean (nullable = true)\n",
      " |-- Crossing: boolean (nullable = true)\n",
      " |-- Give_Way: boolean (nullable = true)\n",
      " |-- Junction: boolean (nullable = true)\n",
      " |-- No_Exit: boolean (nullable = true)\n",
      " |-- Railway: boolean (nullable = true)\n",
      " |-- Roundabout: boolean (nullable = true)\n",
      " |-- Station: boolean (nullable = true)\n",
      " |-- Stop: boolean (nullable = true)\n",
      " |-- Traffic_Calming: boolean (nullable = true)\n",
      " |-- Traffic_Signal: boolean (nullable = true)\n",
      " |-- Turning_Loop: boolean (nullable = true)\n",
      " |-- Sunrise_Sunset: string (nullable = true)\n",
      " |-- Civil_Twilight: string (nullable = true)\n",
      " |-- Nautical_Twilight: string (nullable = true)\n",
      " |-- Astronomical_Twilight: string (nullable = true)\n",
      " |-- start_year: string (nullable = true)\n",
      "\n"
     ]
    }
   ],
   "source": [
    "root_accidents_data = read_dataset('data/US_Accidents_Dec20.csv')\n",
    "root_accidents_data.printSchema()"
   ]
  },
  {
   "attachments": {},
   "cell_type": "markdown",
   "id": "racial-tennessee",
   "metadata": {},
   "source": [
    "To reflect on the above output:\n",
    "TMC - is the accident code assigned by the authorities full list can be found here:\n",
    "https://wiki.openstreetmap.org/wiki/TMC/Event_Code_List"
   ]
  },
  {
   "cell_type": "code",
   "execution_count": 34,
   "id": "meaning-resident",
   "metadata": {},
   "outputs": [
    {
     "data": {
      "text/plain": [
       "4232541"
      ]
     },
     "execution_count": 34,
     "metadata": {},
     "output_type": "execute_result"
    }
   ],
   "source": [
    "# Total dataset count is:\n",
    "root_accidents_data.count()"
   ]
  },
  {
   "cell_type": "markdown",
   "id": "active-thesis",
   "metadata": {},
   "source": [
    "# Data analysis"
   ]
  },
  {
   "cell_type": "markdown",
   "id": "governmental-robert",
   "metadata": {},
   "source": [
    "### Data source and meta"
   ]
  },
  {
   "cell_type": "code",
   "execution_count": 73,
   "id": "following-chorus",
   "metadata": {},
   "outputs": [],
   "source": [
    "# we will use these functions to display a pie chart of a column\n",
    "def display_piechart_of_column(accidents_dataframe: DataFrame, column_name: str):\n",
    "    counted_accidents = accidents_dataframe.withColumn(column_name, col(column_name).cast('string'))\\\n",
    "        .groupBy(column_name).count().filter(col(column_name) != 'null')\n",
    "        \n",
    "    counted_accidents = counted_accidents.collect()\n",
    "    labels = [label[column_name] for label in counted_accidents]\n",
    "    counts = [label['count'] for label in counted_accidents]\n",
    "    count_sum = reduce(lambda x, y: x + y, counts)\n",
    "    percentages = [count/count_sum for count in counts]\n",
    "    piechart(labels, percentages, column_name)\n",
    "    zipped = [(labels[i], counts[i]) for i in range(len(labels))]\n",
    "    print(zipped)\n",
    "\n",
    "\n",
    "def piechart(labels, percentages, column_name):\n",
    "    plt.pie(percentages, labels=labels)\n",
    "    plt.title(f'ratio by {column_name}')\n",
    "    plt.show()"
   ]
  },
  {
   "cell_type": "code",
   "execution_count": 74,
   "id": "confused-chaos",
   "metadata": {},
   "outputs": [
    {
     "data": {
      "image/png": "[encoded data removed]",
      "text/plain": [
       "<Figure size 432x288 with 1 Axes>"
      ]
     },
     "metadata": {},
     "output_type": "display_data"
    },
    {
     "name": "stdout",
     "output_type": "stream",
     "text": [
      "[('Bing', 1516064), ('MapQuest', 2651861), ('MapQuest-Bing', 64616)]\n"
     ]
    }
   ],
   "source": [
    "display_piechart_of_column(root_accidents_data, 'Source')"
   ]
  },
  {
   "cell_type": "markdown",
   "id": "attended-blast",
   "metadata": {},
   "source": [
    "As can be seen above the data comes from 3 sources: MapQuest, Bing, and a mix up of MapQuest-Bing. There are about twice as many inputs from MapQuest compared to Bing"
   ]
  },
  {
   "cell_type": "code",
   "execution_count": 69,
   "id": "mathematical-modeling",
   "metadata": {},
   "outputs": [
    {
     "data": {
      "image/png": "[encoded data removed]",
      "text/plain": [
       "<Figure size 432x288 with 1 Axes>"
      ]
     },
     "metadata": {},
     "output_type": "display_data"
    },
    {
     "data": {
      "image/png": "[encoded data removed]",
      "text/plain": [
       "<Figure size 432x288 with 1 Axes>"
      ]
     },
     "metadata": {},
     "output_type": "display_data"
    }
   ],
   "source": [
    "bing = root_accidents_data.filter(col('Source') == 'Bing')\n",
    "display_piechart_of_column(bing, 'Severity')\n",
    "\n",
    "quest = root_accidents_data.filter(col('Source') == 'MapQuest')\n",
    "display_piechart_of_column(quest, 'Severity')"
   ]
  },
  {
   "attachments": {},
   "cell_type": "markdown",
   "id": "loving-roots",
   "metadata": {},
   "source": [
    "as can be seen above, Bing and MapQuest have recorded a different ratios of severities of each level, It looks like Map Quest have stricter requirements for level 4, and such a minority of them was recorded over 5 years. Bing's chart while biased towards severity 2 displays more coverage on other categories. We cannot use both datasets, and while it is hard to choose which one, "
   ]
  },
  {
   "cell_type": "markdown",
   "id": "colored-spirituality",
   "metadata": {},
   "source": [
    "# Data cleanup, processing"
   ]
  },
  {
   "cell_type": "code",
   "execution_count": null,
   "id": "compact-estonia",
   "metadata": {},
   "outputs": [],
   "source": []
  },
  {
   "cell_type": "markdown",
   "id": "comparable-immigration",
   "metadata": {},
   "source": [
    "# Regression"
   ]
  },
  {
   "cell_type": "code",
   "execution_count": null,
   "id": "accessory-shepherd",
   "metadata": {},
   "outputs": [],
   "source": []
  }
 ],
 "metadata": {
  "kernelspec": {
   "display_name": "biggyTraffic",
   "language": "python",
   "name": "biggytraffic"
  },
  "language_info": {
   "codemirror_mode": {
    "name": "ipython",
    "version": 3
   },
   "file_extension": ".py",
   "mimetype": "text/x-python",
   "name": "python",
   "nbconvert_exporter": "python",
   "pygments_lexer": "ipython3",
   "version": "3.9.1"
  }
 },
 "nbformat": 4,
 "nbformat_minor": 5
}
