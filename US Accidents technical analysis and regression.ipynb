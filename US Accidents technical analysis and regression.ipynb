{
 "cells": [
  {
   "cell_type": "markdown",
   "id": "automatic-packet",
   "metadata": {},
   "source": [
    "# Imports, spark init, dataset read"
   ]
  },
  {
   "cell_type": "code",
   "execution_count": 30,
   "id": "outside-guard",
   "metadata": {},
   "outputs": [],
   "source": [
    "from pyspark.sql import SparkSession\n",
    "\n",
    "import sys\n",
    "import math\n",
    "import numpy as np\n",
    "from pyspark.sql.functions import col, explode, array, lit, round, when, mean as _mean, min\n",
    "import plotly.graph_objects as go\n",
    "import pyspark.sql.functions as sql_func\n",
    "import pyspark.sql.functions as F\n",
    "from pyspark.sql.types import StructType, StructField, StringType, TimestampType, IntegerType, FloatType, BooleanType\n",
    "from functools import reduce\n",
    "import matplotlib.pyplot as plt\n",
    "from pyspark.sql import DataFrame\n",
    "from pyspark.sql.functions import col\n",
    "from pyspark.ml.regression import GeneralizedLinearRegression, LinearRegression, DecisionTreeRegressor, RandomForestRegressor\n",
    "from pyspark.ml.classification import LogisticRegression, RandomForestClassifier, DecisionTreeClassifier\n",
    "from pyspark.ml.evaluation import RegressionEvaluator, MulticlassClassificationEvaluator\n",
    "from pyspark.ml.feature import StringIndexer, OneHotEncoder, VectorAssembler, FeatureHasher\n",
    "seed = 777"
   ]
  },
  {
   "cell_type": "code",
   "execution_count": 31,
   "id": "becoming-microwave",
   "metadata": {},
   "outputs": [],
   "source": [
    "def init_spark():\n",
    "    spark = SparkSession \\\n",
    "        .builder \\\n",
    "        .master('local[*]')\\\n",
    "        .appName(\"Python Spark SQL basic example\") \\\n",
    "        .config(\"spark.driver.memory\", \"15g\")\\\n",
    "        .getOrCreate()\n",
    "    return spark"
   ]
  },
  {
   "cell_type": "markdown",
   "id": "danish-source",
   "metadata": {},
   "source": [
    "We do not need 'Country' column, since it only has one value, it is clear we work in the scope of USA, \n",
    "'id' provides no relevant information either, so can be dropped\n",
    "\n",
    "We also add a year column to easily distinguish on when the specific accdent occured"
   ]
  },
  {
   "cell_type": "code",
   "execution_count": 32,
   "id": "closed-richardson",
   "metadata": {},
   "outputs": [],
   "source": [
    "def read_dataset(filename):\n",
    "    spark = init_spark()\n",
    "    total_accidents_data = spark.read.csv(filename, header=True, mode=\"DROPMALFORMED\", encoding=\"ISO-8859-1\", inferSchema=True)\n",
    "    # dropped meaningless and 1 class only columns\n",
    "    final_result = total_accidents_data.drop('Country').drop('id')\\\n",
    "        .withColumn('start_year', sql_func.date_format(total_accidents_data.Start_Time, 'y'))\n",
    "      \n",
    "    return final_result"
   ]
  },
  {
   "cell_type": "code",
   "execution_count": 33,
   "id": "crude-joshua",
   "metadata": {},
   "outputs": [
    {
     "name": "stdout",
     "output_type": "stream",
     "text": [
      "root\n",
      " |-- Source: string (nullable = true)\n",
      " |-- TMC: double (nullable = true)\n",
      " |-- Severity: integer (nullable = true)\n",
      " |-- Start_Time: string (nullable = true)\n",
      " |-- End_Time: string (nullable = true)\n",
      " |-- Start_Lat: double (nullable = true)\n",
      " |-- Start_Lng: double (nullable = true)\n",
      " |-- End_Lat: double (nullable = true)\n",
      " |-- End_Lng: double (nullable = true)\n",
      " |-- Distance(mi): double (nullable = true)\n",
      " |-- Description: string (nullable = true)\n",
      " |-- Number: double (nullable = true)\n",
      " |-- Street: string (nullable = true)\n",
      " |-- Side: string (nullable = true)\n",
      " |-- City: string (nullable = true)\n",
      " |-- County: string (nullable = true)\n",
      " |-- State: string (nullable = true)\n",
      " |-- Zipcode: string (nullable = true)\n",
      " |-- Timezone: string (nullable = true)\n",
      " |-- Airport_Code: string (nullable = true)\n",
      " |-- Weather_Timestamp: string (nullable = true)\n",
      " |-- Temperature(F): double (nullable = true)\n",
      " |-- Wind_Chill(F): double (nullable = true)\n",
      " |-- Humidity(%): double (nullable = true)\n",
      " |-- Pressure(in): double (nullable = true)\n",
      " |-- Visibility(mi): double (nullable = true)\n",
      " |-- Wind_Direction: string (nullable = true)\n",
      " |-- Wind_Speed(mph): double (nullable = true)\n",
      " |-- Precipitation(in): double (nullable = true)\n",
      " |-- Weather_Condition: string (nullable = true)\n",
      " |-- Amenity: boolean (nullable = true)\n",
      " |-- Bump: boolean (nullable = true)\n",
      " |-- Crossing: boolean (nullable = true)\n",
      " |-- Give_Way: boolean (nullable = true)\n",
      " |-- Junction: boolean (nullable = true)\n",
      " |-- No_Exit: boolean (nullable = true)\n",
      " |-- Railway: boolean (nullable = true)\n",
      " |-- Roundabout: boolean (nullable = true)\n",
      " |-- Station: boolean (nullable = true)\n",
      " |-- Stop: boolean (nullable = true)\n",
      " |-- Traffic_Calming: boolean (nullable = true)\n",
      " |-- Traffic_Signal: boolean (nullable = true)\n",
      " |-- Turning_Loop: boolean (nullable = true)\n",
      " |-- Sunrise_Sunset: string (nullable = true)\n",
      " |-- Civil_Twilight: string (nullable = true)\n",
      " |-- Nautical_Twilight: string (nullable = true)\n",
      " |-- Astronomical_Twilight: string (nullable = true)\n",
      " |-- start_year: string (nullable = true)\n",
      "\n"
     ]
    }
   ],
   "source": [
    "root_accidents_data = read_dataset('data/US_Accidents_Dec20.csv')\n",
    "root_accidents_data.printSchema()"
   ]
  },
  {
   "cell_type": "markdown",
   "id": "racial-tennessee",
   "metadata": {},
   "source": [
    "To reflect on the above output:\n",
    "TMC - is the accident code assigned by the authorities full list can be found here:\n",
    "https://wiki.openstreetmap.org/wiki/TMC/Event_Code_List"
   ]
  },
  {
   "cell_type": "code",
   "execution_count": 34,
   "id": "meaning-resident",
   "metadata": {},
   "outputs": [
    {
     "data": {
      "text/plain": [
       "4232541"
      ]
     },
     "execution_count": 34,
     "metadata": {},
     "output_type": "execute_result"
    }
   ],
   "source": [
    "# Total dataset count is:\n",
    "root_accidents_data.count()"
   ]
  },
  {
   "cell_type": "markdown",
   "id": "active-thesis",
   "metadata": {},
   "source": [
    "# Data analysis and cleanup, imbalance treatment, feature engineering"
   ]
  },
  {
   "cell_type": "markdown",
   "id": "coupled-marshall",
   "metadata": {},
   "source": [
    "### Data source and meta"
   ]
  },
  {
   "cell_type": "code",
   "execution_count": 35,
   "id": "following-chorus",
   "metadata": {},
   "outputs": [],
   "source": [
    "# we will use these functions to display a pie chart of a column\n",
    "def display_piechart_of_column(accidents_dataframe: DataFrame, column_name: str):\n",
    "    counted_accidents = accidents_dataframe.withColumn(column_name, col(column_name).cast('string'))\\\n",
    "        .groupBy(column_name).count()\n",
    "        \n",
    "    counted_accidents = counted_accidents.collect()\n",
    "    labels = [label[column_name] for label in counted_accidents]\n",
    "    counts = [label['count'] for label in counted_accidents]\n",
    "    count_sum = reduce(lambda x, y: x + y, counts)\n",
    "    percentages = [count/count_sum for count in counts]\n",
    "    piechart(labels, percentages, column_name)\n",
    "    zipped = [(labels[i], counts[i]) for i in range(len(labels))]\n",
    "    print(zipped)\n",
    "\n",
    "\n",
    "def piechart(labels, percentages, column_name):\n",
    "    plt.pie(percentages, labels=labels)\n",
    "    plt.title(f'ratio by {column_name}')\n",
    "    plt.show()"
   ]
  },
  {
   "cell_type": "code",
   "execution_count": 36,
   "id": "convenient-particular",
   "metadata": {},
   "outputs": [
    {
     "data": {
      "image/png": "[encoded data removed]",
      "text/plain": [
       "<Figure size 432x288 with 1 Axes>"
      ]
     },
     "metadata": {},
     "output_type": "display_data"
    },
    {
     "name": "stdout",
     "output_type": "stream",
     "text": [
      "[('Bing', 1516064), ('MapQuest', 2651861), ('MapQuest-Bing', 64616)]\n"
     ]
    }
   ],
   "source": [
    "display_piechart_of_column(root_accidents_data, 'Source')"
   ]
  },
  {
   "cell_type": "markdown",
   "id": "limited-cylinder",
   "metadata": {},
   "source": [
    "As can be seen above the data comes from 3 sources: MapQuest, Bing, and a mix up of MapQuest-Bing. There are about twice as many inputs from MapQuest compared to Bing"
   ]
  },
  {
   "cell_type": "code",
   "execution_count": 37,
   "id": "boxed-speech",
   "metadata": {},
   "outputs": [
    {
     "data": {
      "image/png": "[encoded data removed]",
      "text/plain": [
       "<Figure size 432x288 with 1 Axes>"
      ]
     },
     "metadata": {},
     "output_type": "display_data"
    },
    {
     "name": "stdout",
     "output_type": "stream",
     "text": [
      "[('3', 161052), ('1', 28178), ('4', 114452), ('2', 1212382)]\n"
     ]
    },
    {
     "data": {
      "image/png": "[encoded data removed]",
      "text/plain": [
       "<Figure size 432x288 with 1 Axes>"
      ]
     },
     "metadata": {},
     "output_type": "display_data"
    },
    {
     "name": "stdout",
     "output_type": "stream",
     "text": [
      "[('3', 886933), ('1', 1115), ('4', 9269), ('2', 1754544)]\n"
     ]
    }
   ],
   "source": [
    "bing = root_accidents_data.filter(col('Source') == 'Bing')\n",
    "display_piechart_of_column(bing, 'Severity')\n",
    "\n",
    "quest = root_accidents_data.filter(col('Source') == 'MapQuest')\n",
    "display_piechart_of_column(quest, 'Severity')"
   ]
  },
  {
   "cell_type": "markdown",
   "id": "weighted-amount",
   "metadata": {},
   "source": [
    "as can be seen above, Bing and MapQuest have recorded a different ratios of severities of each level, It looks like Map Quest have stricter requirements for level 4, and such a minority of them was recorded over 5 years. Bing's chart while biased towards severity 2 displays more coverage on other categories. We cannot use both datasets, and while it is hard to choose which one. #todo decide if should choose either or drop"
   ]
  },
  {
   "cell_type": "markdown",
   "id": "dried-cradle",
   "metadata": {},
   "source": [
    "us states analysis. Maybe just do regressions per state to reach better results since authorities mostly care about data within their state and not their neighbour's state\n"
   ]
  },
  {
   "cell_type": "markdown",
   "id": "expanded-charity",
   "metadata": {},
   "source": [
    "Outlier Treatment"
   ]
  },
  {
   "cell_type": "code",
   "execution_count": 38,
   "id": "durable-objective",
   "metadata": {},
   "outputs": [],
   "source": [
    "root_accidents_data = root_accidents_data.withColumn('year', sql_func.date_format(root_accidents_data.Start_Time, 'y'))\\\n",
    "    .withColumn('year', col('year').cast(IntegerType()))\n",
    "root_accidents_data = root_accidents_data.withColumn('month', sql_func.date_format(root_accidents_data.Start_Time, 'M'))\\\n",
    "    .withColumn('month', col('month').cast(IntegerType()))\n",
    "root_accidents_data = root_accidents_data.withColumn('day', sql_func.date_format(root_accidents_data.Start_Time, 'D'))\\\n",
    "    .withColumn('day', col('day').cast(IntegerType()))\n",
    "root_accidents_data = root_accidents_data.withColumn('hour_minutes', \\\n",
    "    sql_func.date_format(root_accidents_data.Start_Time, 'H')*60 + sql_func.date_format(root_accidents_data.Start_Time, 'm'))"
   ]
  },
  {
   "cell_type": "markdown",
   "id": "wired-belarus",
   "metadata": {},
   "source": [
    "### Accidents per day of the week"
   ]
  },
  {
   "cell_type": "code",
   "execution_count": 39,
   "id": "legislative-order",
   "metadata": {},
   "outputs": [],
   "source": [
    "root_accidents_data = root_accidents_data.withColumn('weekday', sql_func.date_format(root_accidents_data.Start_Time, 'E'))"
   ]
  },
  {
   "cell_type": "code",
   "execution_count": 40,
   "id": "national-concentration",
   "metadata": {},
   "outputs": [
    {
     "data": {
      "image/png": "[encoded data removed]",
      "text/plain": [
       "<Figure size 432x288 with 1 Axes>"
      ]
     },
     "metadata": {},
     "output_type": "display_data"
    },
    {
     "name": "stdout",
     "output_type": "stream",
     "text": [
      "[('Sun', 255920), ('Mon', 703779), ('Thu', 742968), ('Sat', 289754), ('Wed', 747851), ('Tue', 744645), ('Fri', 747624)]\n"
     ]
    }
   ],
   "source": [
    "display_piechart_of_column(root_accidents_data, 'weekday')"
   ]
  },
  {
   "cell_type": "markdown",
   "id": "proved-reaction",
   "metadata": {},
   "source": [
    "As we can see on the chart above, accidents are much less frequent on the weekend as they are on the work days, therefore day of the week is an important feature for the classification Model"
   ]
  },
  {
   "cell_type": "markdown",
   "id": "useful-guest",
   "metadata": {},
   "source": [
    "### Road condition, accident side, street location"
   ]
  },
  {
   "cell_type": "markdown",
   "id": "written-extreme",
   "metadata": {},
   "source": [
    "#### Side"
   ]
  },
  {
   "cell_type": "code",
   "execution_count": 41,
   "id": "manufactured-operation",
   "metadata": {},
   "outputs": [
    {
     "data": {
      "image/png": "[encoded data removed]",
      "text/plain": [
       "<Figure size 432x288 with 1 Axes>"
      ]
     },
     "metadata": {},
     "output_type": "display_data"
    },
    {
     "name": "stdout",
     "output_type": "stream",
     "text": [
      "[('L', 765461), ('R', 3467079), (' ', 1)]\n"
     ]
    }
   ],
   "source": [
    "display_piechart_of_column(root_accidents_data, 'Side')"
   ]
  },
  {
   "cell_type": "markdown",
   "id": "rental-radiation",
   "metadata": {},
   "source": [
    "should we add bivariate/multivariate analysis?"
   ]
  },
  {
   "cell_type": "markdown",
   "id": "aquatic-australia",
   "metadata": {},
   "source": [
    "separate EDA from data pre processing"
   ]
  },
  {
   "cell_type": "markdown",
   "id": "smart-browse",
   "metadata": {},
   "source": [
    "### Weather Condition and Wind"
   ]
  },
  {
   "cell_type": "markdown",
   "id": "ambient-bathroom",
   "metadata": {},
   "source": [
    "#### Weather Condition"
   ]
  },
  {
   "cell_type": "code",
   "execution_count": 42,
   "id": "confident-empty",
   "metadata": {
    "scrolled": false
   },
   "outputs": [
    {
     "name": "stdout",
     "output_type": "stream",
     "text": [
      "+--------------------+------+\n",
      "|   Weather_Condition| count|\n",
      "+--------------------+------+\n",
      "|                Fair|900872|\n",
      "|               Clear|808181|\n",
      "|       Mostly Cloudy|571743|\n",
      "|       Partly Cloudy|397415|\n",
      "|            Overcast|382485|\n",
      "|              Cloudy|323340|\n",
      "|          Light Rain|206389|\n",
      "|    Scattered Clouds|204661|\n",
      "|                null| 98383|\n",
      "|          Light Snow| 57148|\n",
      "|                Rain| 48641|\n",
      "|                Haze| 46794|\n",
      "|                 Fog| 45912|\n",
      "|          Heavy Rain| 18223|\n",
      "|       Light Drizzle| 14594|\n",
      "|        Fair / Windy| 11396|\n",
      "|               Smoke|  8327|\n",
      "|Mostly Cloudy / W...|  6538|\n",
      "|                Snow|  6430|\n",
      "|      Cloudy / Windy|  6272|\n",
      "+--------------------+------+\n",
      "only showing top 20 rows\n",
      "\n"
     ]
    }
   ],
   "source": [
    "root_accidents_data.groupBy('Weather_Condition').count().orderBy('count', ascending=False).show()"
   ]
  },
  {
   "cell_type": "markdown",
   "id": "eastern-factory",
   "metadata": {},
   "source": [
    "Weather conditions are very diverse. We will try to divide them into categories and reassign them"
   ]
  },
  {
   "cell_type": "code",
   "execution_count": 43,
   "id": "funky-glass",
   "metadata": {},
   "outputs": [
    {
     "data": {
      "image/png": "[encoded data removed]",
      "text/plain": [
       "<Figure size 432x288 with 1 Axes>"
      ]
     },
     "metadata": {},
     "output_type": "display_data"
    },
    {
     "name": "stdout",
     "output_type": "stream",
     "text": [
      "[('false', 3898132), ('true', 334409)]\n"
     ]
    }
   ],
   "source": [
    "weather_df = root_accidents_data.withColumn('fair', \\\n",
    "                                         when(col(\"Weather_Condition\").contains('Fair'), lit(True))\\\n",
    "                                        .when(col(\"Weather_Condition\").contains('Clear'), lit(True))\\\n",
    "                                        .when(col(\"Weather_Condition\").contains('Scattered Clouds'), lit(True))\\\n",
    "                                        .when(col(\"Weather_Condition\").contains('Fair / Windy'), lit(True))\\\n",
    "                                        .otherwise(False))\n",
    "\n",
    "weather_df = weather_df.withColumn('clouds', \\\n",
    "                                         when(col(\"Weather_Condition\").contains('Cloudy'), lit(True))\\\n",
    "                                        .when(col(\"Weather_Condition\").contains('Clouds'), lit(True))\\\n",
    "                                        .when(col(\"Weather_Condition\").contains('Overcast'), lit(True))\\\n",
    "                                        .otherwise(False))\n",
    "weather_df = weather_df.withColumn('dark_clouds', \\\n",
    "                                         when(col(\"Weather_Condition\").contains('Mostly Cloudy'), lit(True))\\\n",
    "                                        .when(col(\"Weather_Condition\").contains('Overcast'), lit(True))\\\n",
    "                                        .when(col(\"Weather_Condition\").contains('Funnel Cloud'), lit(True))\\\n",
    "                                        .otherwise(False))\n",
    "\n",
    "weather_df = weather_df.withColumn('fog', \\\n",
    "                                         when(col(\"Weather_Condition\").contains('Haze'), lit(True))\\\n",
    "                                        .when(col(\"Weather_Condition\").contains('Fog'), lit(True))\\\n",
    "                                        .when(col(\"Weather_Condition\").contains('Smoke'), lit(True))\\\n",
    "                                        .when(col(\"Weather_Condition\").contains('Mist'), lit(True))\\\n",
    "                                        .when(col(\"Weather_Condition\").contains('Dust'), lit(True))\\\n",
    "                                        .when(col(\"Weather_Condition\").contains('Sand'), lit(True))\\\n",
    "                                        .when(col(\"Weather_Condition\").contains('Ash'), lit(True))\\\n",
    "                                        .otherwise(False))\n",
    "\n",
    "weather_df = weather_df.withColumn('rain', \\\n",
    "                                         when(col(\"Weather_Condition\").contains('Drizzle'), lit(True))\\\n",
    "                                        .when(col(\"Weather_Condition\").contains('Rain'), lit(True))\\\n",
    "                                        .when(col(\"Weather_Condition\").contains('Heavy Rain'), lit(True))\\\n",
    "                                        .when(col(\"Weather_Condition\").contains('T-Storm'), lit(True))\\\n",
    "                                        .when(col(\"Weather_Condition\").contains('Thunderstorm'), lit(True))\\\n",
    "                                        .when(col(\"Weather_Condition\").contains('Thunder'), lit(True))\\\n",
    "                                        .when(col(\"Weather_Condition\").contains('Storm'), lit(True))\\\n",
    "                                        .when(col(\"Weather_Condition\").contains('Heavy Drizzle'), lit(True))\\\n",
    "                                        .when(col(\"Weather_Condition\").contains('Tornado'), lit(True))\\\n",
    "                                        .otherwise(False))\n",
    "weather_df = weather_df.withColumn('heavy_rain', \\\n",
    "                                         when(col(\"Weather_Condition\").contains('Heavy Rain'), lit(True))\\\n",
    "                                        .when(col(\"Weather_Condition\").contains('T-Storm'), lit(True))\\\n",
    "                                        .when(col(\"Weather_Condition\").contains('Thunderstorm'), lit(True))\\\n",
    "                                        .when(col(\"Weather_Condition\").contains('Thunder'), lit(True))\\\n",
    "                                        .when(col(\"Weather_Condition\").contains('Storm'), lit(True))\\\n",
    "                                        .when(col(\"Weather_Condition\").contains('Heavy Drizzle'), lit(True))\\\n",
    "                                        .when(col(\"Weather_Condition\").contains('Tornado'), lit(True))\\\n",
    "                                        .otherwise(False))\n",
    "\n",
    "\n",
    "weather_df = weather_df.withColumn('snow', \\\n",
    "                                         when(col(\"Weather_Condition\").contains('Snow'), lit(True))\\\n",
    "                                        .when(col(\"Weather_Condition\").contains('Wintry'), lit(True))\\\n",
    "                                        .when(col(\"Weather_Condition\").contains('Ice'), lit(True))\\\n",
    "                                        .when(col(\"Weather_Condition\").contains('Sleet'), lit(True))\\\n",
    "                                        .when(col(\"Weather_Condition\").contains('Hail'), lit(True))\\\n",
    "                                        .when(col(\"Weather_Condition\").contains('Snow Grains'), lit(True))\\\n",
    "                                        .when(col(\"Weather_Condition\").contains('Freezing'), lit(True))\\\n",
    "                                        .otherwise(False))\n",
    "weather_df = weather_df.withColumn('heavy_snow', \\\n",
    "                                         when(col(\"Weather_Condition\").contains('Freezing'), lit(True))\\\n",
    "                                        .when(col(\"Weather_Condition\").contains('Heavy Snow'), lit(True))\\\n",
    "                                        .when(col(\"Weather_Condition\").contains('Heavy Sleet'), lit(True))\\\n",
    "                                        .when(col(\"Weather_Condition\").contains('Heavy Ice'), lit(True))\\\n",
    "                                        .otherwise(False))\n",
    "root_accidents_data = weather_df\n",
    "#windy entries are not considered, given that wind is already well covered in wind_direction and wind_speed\n",
    "display_piechart_of_column(weather_df, 'rain')"
   ]
  },
  {
   "cell_type": "markdown",
   "id": "dynamic-tender",
   "metadata": {},
   "source": [
    "#### Visibility"
   ]
  },
  {
   "cell_type": "code",
   "execution_count": 44,
   "id": "patient-english",
   "metadata": {
    "scrolled": false
   },
   "outputs": [
    {
     "data": {
      "image/png": "[encoded data removed]",
      "text/plain": [
       "<Figure size 432x288 with 1 Axes>"
      ]
     },
     "metadata": {},
     "output_type": "display_data"
    },
    {
     "name": "stdout",
     "output_type": "stream",
     "text": [
      "[('1.0', 41191), ('0.75', 6404), ('4.2', 10), ('50.0', 2146), ('75.0', 64), ('22.0', 4), ('90.0', 8), ('20.0', 3318), ('0.31', 1), ('15.0', 3400), ('45.0', 358), ('67.0', 1), ('47.0', 2), ('0.25', 9316), ('0.99', 8), ('0.7', 15), ('4.5', 1), ('63.0', 1), ('25.0', 535), ('0.06', 170), ('6.2', 2), ('120.0', 5), ('0.2', 12092), (None, 98668), ('2.5', 18479), ('72.0', 1), ('110.0', 1), ('1.6', 31), ('0.0', 2642), ('9.0', 111026), ('0.8', 8317), ('1.8', 8400), ('12.0', 366), ('10.0', 3292496), ('0.12', 694), ('3.5', 28), ('14.0', 6), ('46.0', 1), ('1.4', 35), ('19.0', 2), ('70.0', 266), ('111.0', 3), ('5.0', 83104), ('6.0', 73798), ('0.5', 17901), ('0.38', 116), ('101.0', 1), ('34.0', 2), ('35.0', 189), ('100.0', 14), ('58.0', 1), ('4.0', 66937), ('1.9', 44), ('0.9', 48), ('0.19', 8), ('0.6', 72), ('7.0', 128664), ('0.1', 1287), ('105.0', 1), ('1.5', 11325), ('2.8', 129), ('60.0', 195), ('11.0', 148), ('2.0', 57547), ('3.2', 1), ('2.2', 114), ('30.0', 3203), ('3.7', 2), ('8.0', 88559), ('54.0', 1), ('1.1', 55), ('130.0', 1), ('5.5', 24), ('76.0', 3), ('140.0', 2), ('0.63', 93), ('3.0', 65228), ('2.1', 2), ('43.0', 1), ('1.2', 6488), ('80.0', 148), ('36.0', 2), ('16.0', 1), ('0.4', 98), ('0.88', 66), ('10.5', 26), ('13.0', 4687), ('40.0', 1691)]\n"
     ]
    }
   ],
   "source": [
    "display_piechart_of_column(root_accidents_data, 'Visibility(mi)')"
   ]
  },
  {
   "cell_type": "markdown",
   "id": "published-genealogy",
   "metadata": {},
   "source": [
    "In terms of visibility the higher the better. As we can see it is mostly good visibility on the dataset. We do not need such diversity in visibility, so let's round the value to it's nearest integer:"
   ]
  },
  {
   "cell_type": "code",
   "execution_count": 45,
   "id": "motivated-adult",
   "metadata": {},
   "outputs": [
    {
     "data": {
      "image/png": "[encoded data removed]",
      "text/plain": [
       "<Figure size 432x288 with 1 Axes>"
      ]
     },
     "metadata": {},
     "output_type": "display_data"
    },
    {
     "name": "stdout",
     "output_type": "stream",
     "text": [
      "[('1.0', 80693), ('50.0', 2146), ('75.0', 64), ('22.0', 4), ('90.0', 8), ('20.0', 3318), ('15.0', 3400), ('45.0', 358), ('67.0', 1), ('47.0', 2), ('63.0', 1), ('25.0', 535), ('120.0', 5), (None, 98668), ('72.0', 1), ('110.0', 1), ('0.0', 26424), ('9.0', 111026), ('12.0', 366), ('10.0', 3292496), ('14.0', 6), ('46.0', 1), ('19.0', 2), ('70.0', 266), ('111.0', 3), ('5.0', 83105), ('6.0', 73824), ('101.0', 1), ('34.0', 2), ('35.0', 189), ('100.0', 14), ('58.0', 1), ('4.0', 66977), ('7.0', 128664), ('105.0', 1), ('60.0', 195), ('11.0', 174), ('2.0', 77463), ('30.0', 3203), ('8.0', 88559), ('54.0', 1), ('130.0', 1), ('76.0', 3), ('140.0', 2), ('3.0', 83837), ('43.0', 1), ('80.0', 148), ('36.0', 2), ('16.0', 1), ('13.0', 4687), ('40.0', 1691)]\n"
     ]
    }
   ],
   "source": [
    "visibility_flattened = root_accidents_data.withColumn('Visibility(mi)', round(root_accidents_data['Visibility(mi)'], 0))\n",
    "display_piechart_of_column(visibility_flattened, 'Visibility(mi)')"
   ]
  },
  {
   "cell_type": "markdown",
   "id": "dental-yahoo",
   "metadata": {},
   "source": [
    "let's also merge all the values where visibility is above 10 miles, as 10 miles is more than enough to avoid an accident, and the extra data would only take expensive computation time. Let's also drop None, since the percentage of None is low enough, not to risk adding noise to the dataset. We could give it a mean visibility value, but risking it is un"
   ]
  },
  {
   "cell_type": "code",
   "execution_count": 46,
   "id": "reduced-coupon",
   "metadata": {},
   "outputs": [
    {
     "data": {
      "image/png": "[encoded data removed]",
      "text/plain": [
       "<Figure size 432x288 with 1 Axes>"
      ]
     },
     "metadata": {},
     "output_type": "display_data"
    },
    {
     "name": "stdout",
     "output_type": "stream",
     "text": [
      "[('1.0', 80693), ('0.0', 26424), ('9.0', 111026), ('10.0', 3313301), ('5.0', 83105), ('6.0', 73824), ('4.0', 66977), ('7.0', 128664), ('2.0', 77463), ('8.0', 88559), ('3.0', 83837)]\n"
     ]
    }
   ],
   "source": [
    "root_accidents_data = visibility_flattened\\\n",
    "    .withColumn(\"Visibility(mi)\", when(col(\"Visibility(mi)\") >= 10,lit(10)).otherwise(col(\"Visibility(mi)\")))\\\n",
    "    .where(col(\"Visibility(mi)\").isNotNull())\n",
    "display_piechart_of_column(root_accidents_data, 'Visibility(mi)')"
   ]
  },
  {
   "cell_type": "markdown",
   "id": "foster-functionality",
   "metadata": {},
   "source": [
    "#### Wind"
   ]
  },
  {
   "attachments": {
    "image.png": {
     "image/png": "[encoded data removed]"
    }
   },
   "cell_type": "markdown",
   "id": "closed-coating",
   "metadata": {},
   "source": [
    "The below analysis of Wind direction showed that it is very detailed as well as some data is duplicated. For example there are categories 'North' and 'N' that correspond to the same property, 'South' and 'S', 'Variable' and 'VAR' etc. We will fix these as well as we will round up the NNW to just N to simplify computation:\n",
    "![image.png](attachment:image.png)"
   ]
  },
  {
   "cell_type": "code",
   "execution_count": 47,
   "id": "comfortable-cleaner",
   "metadata": {},
   "outputs": [
    {
     "data": {
      "image/png": "[encoded data removed]",
      "text/plain": [
       "<Figure size 432x288 with 1 Axes>"
      ]
     },
     "metadata": {},
     "output_type": "display_data"
    },
    {
     "name": "stdout",
     "output_type": "stream",
     "text": [
      "[('SSE', 192710), ('SW', 197079), ('NW', 197028), ('Calm', 366426), (None, 13491), ('E', 101466), ('WSW', 190356), ('ENE', 141812), ('NE', 143879), ('South', 176552), ('NNW', 178262), ('N', 112858), ('SSW', 208352), ('W', 135414), ('S', 150917), ('SE', 156890), ('East', 103061), ('WNW', 203395), ('NNE', 143327), ('West', 163721), ('VAR', 87678), ('CALM', 377664), ('ESE', 140126), ('Variable', 112937), ('North', 138472)]\n",
      "+--------------+------+\n",
      "|Wind_Direction| count|\n",
      "+--------------+------+\n",
      "|            SW|197079|\n",
      "|            NW|197028|\n",
      "|          null| 13491|\n",
      "|             E|486465|\n",
      "|            NE|143879|\n",
      "|             N|572919|\n",
      "|             W|692886|\n",
      "|             S|728531|\n",
      "|            SE|156890|\n",
      "|          CALM|744090|\n",
      "|      Variable|200615|\n",
      "+--------------+------+\n",
      "\n"
     ]
    },
    {
     "data": {
      "image/png": "[encoded data removed]",
      "text/plain": [
       "<Figure size 432x288 with 1 Axes>"
      ]
     },
     "metadata": {},
     "output_type": "display_data"
    },
    {
     "name": "stdout",
     "output_type": "stream",
     "text": [
      "[('SW', 197079), ('NW', 197028), (None, 13491), ('E', 486465), ('NE', 143879), ('N', 572919), ('W', 692886), ('S', 728531), ('SE', 156890), ('CALM', 744090), ('Variable', 200615)]\n"
     ]
    }
   ],
   "source": [
    "def correct_column_wind_direction(df):\n",
    "    df = df.withColumn('Wind_Direction',\n",
    "                       F.when(df['Wind_Direction'] == 'SSE', 'S')\\\n",
    "                       .when(df['Wind_Direction'] == 'WNW', 'W')\n",
    "                       .when(df['Wind_Direction'] == 'WSW', 'W')\n",
    "                       .when(df['Wind_Direction'] == 'NNW', 'N')\n",
    "                       .when(df['Wind_Direction'] == 'ENE', 'E')\n",
    "                       .when(df['Wind_Direction'] == 'SSW', 'S')\n",
    "                       .when(df['Wind_Direction'] == 'South', 'S')\n",
    "                       .when(df['Wind_Direction'] == 'West', 'W')\n",
    "                       .when(df['Wind_Direction'] == 'ESE', 'E')\n",
    "                       .when(df['Wind_Direction'] == 'East', 'E')\n",
    "                       .when(df['Wind_Direction'] == 'North', 'N')\n",
    "                       .when(df['Wind_Direction'] == 'NNE', 'N')\n",
    "                       .when(df['Wind_Direction'] == 'VAR', 'Variable')\n",
    "                       .when(df['Wind_Direction'] == 'Calm', 'CALM')\n",
    "                       .otherwise(df['Wind_Direction']))\n",
    "    return df\n",
    "\n",
    "display_piechart_of_column(root_accidents_data, 'Wind_Direction')\n",
    "wind_df = correct_column_wind_direction(root_accidents_data)\n",
    "wind_df.groupBy('Wind_Direction').count().show()\n",
    "display_piechart_of_column(wind_df, 'Wind_Direction')\n",
    "root_accidents_data = wind_df"
   ]
  },
  {
   "cell_type": "markdown",
   "id": "polished-league",
   "metadata": {},
   "source": [
    "let's round up the wind speed now, replace null values with mean of wind in the column and group all values more than 150 into 150 group:"
   ]
  },
  {
   "cell_type": "code",
   "execution_count": 48,
   "id": "polish-intersection",
   "metadata": {
    "scrolled": false
   },
   "outputs": [
    {
     "data": {
      "image/png": "[encoded data removed]",
      "text/plain": [
       "<Figure size 432x288 with 1 Axes>"
      ]
     },
     "metadata": {
      "needs_background": "light"
     },
     "output_type": "display_data"
    }
   ],
   "source": [
    "mean = root_accidents_data.select(_mean(col('Wind_Speed(mph)')).alias('mean')).collect()[0]['mean']\n",
    "wind_flattened = root_accidents_data\\\n",
    "    .withColumn('Wind_Speed(mph)', when(col('Wind_Speed(mph)').isNull(), mean)\\\n",
    "                .when(col('Wind_Speed(mph)') > 150, 150)\\\n",
    "                .otherwise(col('Wind_Speed(mph)')))\n",
    "wind_flattened = wind_flattened.withColumn('Wind_Speed(mph)', col('Wind_Speed(mph)').cast(IntegerType()))\n",
    "wind_values = np.array(wind_flattened.select('Wind_Speed(mph)').collect())\n",
    "\n",
    "plt.hist(wind_values, bins=100)\n",
    "plt.show()"
   ]
  },
  {
   "cell_type": "markdown",
   "id": "proud-screening",
   "metadata": {},
   "source": [
    "we can see that the data is highly right skewed, potentially more noramlization will be needed, as well as a more sophisticated encoder for wind speed"
   ]
  },
  {
   "cell_type": "markdown",
   "id": "italic-ecology",
   "metadata": {},
   "source": [
    "### POI"
   ]
  },
  {
   "cell_type": "markdown",
   "id": "generous-oxford",
   "metadata": {},
   "source": [
    "drop description since POI are accessible via other columns"
   ]
  },
  {
   "cell_type": "markdown",
   "id": "regional-england",
   "metadata": {},
   "source": [
    "### Address analysis"
   ]
  },
  {
   "cell_type": "markdown",
   "id": "local-spotlight",
   "metadata": {},
   "source": [
    "#### Street type"
   ]
  },
  {
   "cell_type": "markdown",
   "id": "human-speaking",
   "metadata": {},
   "source": [
    "Here we will change the street data, which consists the names of the street where the accident occured to the type of the street. For example I-5 N, I-95 N, San Diego Fwy S will all be assigned a street_type 'highway', whereas 109th Ln, 10th Ave E, 110th St will be assigned a 'regular' stret_type"
   ]
  },
  {
   "cell_type": "code",
   "execution_count": 49,
   "id": "presidential-start",
   "metadata": {
    "scrolled": false
   },
   "outputs": [
    {
     "data": {
      "image/png": "[encoded data removed]",
      "text/plain": [
       "<Figure size 432x288 with 1 Axes>"
      ]
     },
     "metadata": {},
     "output_type": "display_data"
    },
    {
     "name": "stdout",
     "output_type": "stream",
     "text": [
      "[('toll', 50224), ('main_street', 20706), ('highway', 2069053), ('beltway', 35289), ('parkway', 111483), ('bridge', 11552), ('blvd', 196184), ('street', 1632481), ('loop', 6901)]\n"
     ]
    }
   ],
   "source": [
    "street_types = root_accidents_data.withColumn('street_type', \\\n",
    "                                         when(col(\"Street\").contains('I-'), lit('highway'))\\\n",
    "                                         .when(col(\"Street\").contains('US-'), lit('highway'))\\\n",
    "                                         .when(col(\"Street\").contains('CA-'), lit('highway'))\\\n",
    "                                         .when(col(\"Street\").contains('FL-'), lit('highway'))\\\n",
    "                                         .when(col(\"Street\").contains('GA-'), lit('highway'))\\\n",
    "                                         .when(col(\"Street\").contains('CT-'), lit('highway'))\\\n",
    "                                         .when(col(\"Street\").contains('MN-'), lit('highway'))\\\n",
    "                                         .when(col(\"Street\").contains('AZ-'), lit('highway'))\\\n",
    "                                         .when(col(\"Street\").contains('Fwy'), lit('highway'))\\\n",
    "                                         .when(col(\"Street\").contains('Connector'), lit('highway'))\\\n",
    "                                         .when(col(\"Street\").contains('-'), lit('highway'))\\\n",
    "                                         .when(col(\"Street\").contains('Expy'), lit('highway'))\\\n",
    "                                         .when(col(\"Street\").contains('Express'), lit('highway'))\\\n",
    "                                         .when(col(\"Street\").contains('Way'), lit('highway'))\\\n",
    "                                         .when(col(\"Street\").contains('Hwy'), lit('highway'))\\\n",
    "                                         .when(col(\"Street\").contains('Interstate'), lit('highway'))\\\n",
    "                                         .when(col(\"Street\").contains('Highway'), lit('highway'))\\\n",
    "                                         .when(col(\"Street\").contains('Freeway'), lit('highway'))\\\n",
    "                                         .when(col(\"Street\").contains('Pike'), lit('highway'))\\\n",
    "                                         .when(col(\"Street\").contains('Route'), lit('highway'))\\\n",
    "                                         .when(col(\"Street\").contains('Belt'), lit('beltway'))\\\n",
    "                                         .when(col(\"Street\").contains('belt'), lit('beltway'))\\\n",
    "                                         .when(col(\"Street\").contains('Cir'), lit('beltway'))\\\n",
    "                                         .when(col(\"Street\").contains('Tpke'), lit('toll'))\\\n",
    "                                         .when(col(\"Street\").contains('Trwy'), lit('toll'))\\\n",
    "                                         .when(col(\"Street\").contains('Tollway'), lit('toll'))\\\n",
    "                                         .when(col(\"Street\").contains('Pkwy'), lit('parkway'))\\\n",
    "                                         .when(col(\"Street\").contains('Park'), lit('parkway'))\\\n",
    "                                         .when(col(\"Street\").contains('Main St'), lit('main_street'))\\\n",
    "                                         .when(col(\"Street\").contains('Ave'), lit('street'))\\\n",
    "                                         .when(col(\"Street\").contains('St'), lit('street'))\\\n",
    "                                         .when(col(\"Street\").contains('Rd'), lit('street'))\\\n",
    "                                         .when(col(\"Street\").contains('Road'), lit('street'))\\\n",
    "                                         .when(col(\"Street\").contains('Ln'), lit('street'))\\\n",
    "                                         .when(col(\"Street\").contains('Dr'), lit('street'))\\\n",
    "                                         .when(col(\"Street\").contains('Trl'), lit('street'))\\\n",
    "                                         .when(col(\"Street\").contains('Trail'), lit('street'))\\\n",
    "                                         .when(col(\"Street\").contains('Camino'), lit('street'))\\\n",
    "                                         .when(col(\"Street\").contains('Path'), lit('street'))\\\n",
    "                                         .when(col(\"Street\").contains('Blvd'), lit('blvd'))\\\n",
    "                                         .when(col(\"Street\").contains('Boulevard'), lit('blvd'))\\\n",
    "                                         .when(col(\"Street\").contains('Broadway'), lit('blvd'))\\\n",
    "                                         .when(col(\"Street\").contains('Brg'), lit('bridge'))\\\n",
    "                                         .when(col(\"Street\").contains('Tun'), lit('bridge'))\\\n",
    "                                         .when(col(\"Street\").contains('Bridge'), lit('bridge'))\\\n",
    "                                         .when(col(\"Street\").contains('way'), lit('highway'))\\\n",
    "                                         .when(col(\"Street\").contains('Loop'), lit('loop'))\\\n",
    "                                         .when(col(\"Street\").contains('Pl'), lit('street'))\\\n",
    "                                         .when(col(\"Street\").contains('Plaza'), lit('street'))\\\n",
    "                                         .when(col(\"Street\").contains('wy'), lit('highway'))\\\n",
    "                                         .when(col(\"Street\").contains('W '), lit('highway'))\\\n",
    "                                         .when(col(\"Street\").contains('S '), lit('highway'))\\\n",
    "                                         .when(col(\"Street\").contains('N '), lit('highway'))\\\n",
    "                                         .when(col(\"Street\").contains('E '), lit('highway'))\\\n",
    "                                         .when(col(\"Street\").contains('Byp'), lit('highway'))\\\n",
    "                                         .when(col(\"Street\").contains('FM '), lit('highway'))\\\n",
    "                                         .when(col(\"Street\").contains('Ct'), lit('street'))\\\n",
    "                                        .otherwise('street'))\n",
    "display_piechart_of_column(street_types, 'street_type')\n",
    "root_accidents_data = street_types"
   ]
  },
  {
   "cell_type": "markdown",
   "id": "blocked-grant",
   "metadata": {},
   "source": [
    "as can be seen the mojority of the traffic happens on the highways, it would be great to see the comparison by severity by street type"
   ]
  },
  {
   "cell_type": "markdown",
   "id": "selective-statistics",
   "metadata": {},
   "source": [
    "### States analysis"
   ]
  },
  {
   "cell_type": "code",
   "execution_count": 50,
   "id": "periodic-prairie",
   "metadata": {},
   "outputs": [
    {
     "data": {
      "application/vnd.plotly.v1+json": {
       "config": {
        "plotlyServerURL": "https://plot.ly"
       },
       "data": [
        {
         "colorbar": {
          "title": {
           "text": "Count"
          }
         },
         "colorscale": [
          [
           0,
           "rgb(252, 222, 156)"
          ],
          [
           0.16666666666666666,
           "rgb(250, 164, 118)"
          ],
          [
           0.3333333333333333,
           "rgb(240, 116, 110)"
          ],
          [
           0.5,
           "rgb(227, 79, 111)"
          ],
          [
           0.6666666666666666,
           "rgb(220, 57, 119)"
          ],
          [
           0.8333333333333334,
           "rgb(185, 37, 122)"
          ],
          [
           1,
           "rgb(124, 29, 111)"
          ]
         ],
         "locationmode": "USA-states",
         "locations": [
          "SC",
          "AZ",
          "LA",
          "MN",
          "NJ",
          "DC",
          "OR",
          "VA",
          "RI",
          "KY",
          "WY",
          "NH",
          "MI",
          "NV",
          "WI",
          "ID",
          "CA",
          "NE",
          "CT",
          "MT",
          "NC",
          "VT",
          "MD",
          "DE",
          "MO",
          "IL",
          "ME",
          "WA",
          "ND",
          "MS",
          "AL",
          "IN",
          "OH",
          "TN",
          "IA",
          "NM",
          "PA",
          "SD",
          "NY",
          "TX",
          "WV",
          "GA",
          "MA",
          "KS",
          "FL",
          "CO",
          "AR",
          "OK",
          "UT"
         ],
         "type": "choropleth",
         "z": [
          208443,
          89761,
          79617,
          103770,
          66974,
          5697,
          106396,
          119505,
          12487,
          24563,
          508,
          8445,
          105397,
          11855,
          21436,
          4165,
          950573,
          24921,
          32377,
          3198,
          191640,
          752,
          54828,
          6833,
          39377,
          111254,
          2312,
          74156,
          431,
          7918,
          56411,
          37501,
          72789,
          88204,
          13769,
          6433,
          133847,
          220,
          187551,
          369001,
          3574,
          105577,
          41474,
          7119,
          364670,
          53334,
          4968,
          64146,
          53696
         ]
        }
       ],
       "layout": {
        "font": {
         "color": "#000000",
         "family": "Verdana",
         "size": 12
        },
        "geo": {
         "scope": "usa"
        },
        "template": {
         "data": {
          "bar": [
           {
            "error_x": {
             "color": "#2a3f5f"
            },
            "error_y": {
             "color": "#2a3f5f"
            },
            "marker": {
             "line": {
              "color": "#E5ECF6",
              "width": 0.5
             }
            },
            "type": "bar"
           }
          ],
          "barpolar": [
           {
            "marker": {
             "line": {
              "color": "#E5ECF6",
              "width": 0.5
             }
            },
            "type": "barpolar"
           }
          ],
          "carpet": [
           {
            "aaxis": {
             "endlinecolor": "#2a3f5f",
             "gridcolor": "white",
             "linecolor": "white",
             "minorgridcolor": "white",
             "startlinecolor": "#2a3f5f"
            },
            "baxis": {
             "endlinecolor": "#2a3f5f",
             "gridcolor": "white",
             "linecolor": "white",
             "minorgridcolor": "white",
             "startlinecolor": "#2a3f5f"
            },
            "type": "carpet"
           }
          ],
          "choropleth": [
           {
            "colorbar": {
             "outlinewidth": 0,
             "ticks": ""
            },
            "type": "choropleth"
           }
          ],
          "contour": [
           {
            "colorbar": {
             "outlinewidth": 0,
             "ticks": ""
            },
            "colorscale": [
             [
              0,
              "#0d0887"
             ],
             [
              0.1111111111111111,
              "#46039f"
             ],
             [
              0.2222222222222222,
              "#7201a8"
             ],
             [
              0.3333333333333333,
              "#9c179e"
             ],
             [
              0.4444444444444444,
              "#bd3786"
             ],
             [
              0.5555555555555556,
              "#d8576b"
             ],
             [
              0.6666666666666666,
              "#ed7953"
             ],
             [
              0.7777777777777778,
              "#fb9f3a"
             ],
             [
              0.8888888888888888,
              "#fdca26"
             ],
             [
              1,
              "#f0f921"
             ]
            ],
            "type": "contour"
           }
          ],
          "contourcarpet": [
           {
            "colorbar": {
             "outlinewidth": 0,
             "ticks": ""
            },
            "type": "contourcarpet"
           }
          ],
          "heatmap": [
           {
            "colorbar": {
             "outlinewidth": 0,
             "ticks": ""
            },
            "colorscale": [
             [
              0,
              "#0d0887"
             ],
             [
              0.1111111111111111,
              "#46039f"
             ],
             [
              0.2222222222222222,
              "#7201a8"
             ],
             [
              0.3333333333333333,
              "#9c179e"
             ],
             [
              0.4444444444444444,
              "#bd3786"
             ],
             [
              0.5555555555555556,
              "#d8576b"
             ],
             [
              0.6666666666666666,
              "#ed7953"
             ],
             [
              0.7777777777777778,
              "#fb9f3a"
             ],
             [
              0.8888888888888888,
              "#fdca26"
             ],
             [
              1,
              "#f0f921"
             ]
            ],
            "type": "heatmap"
           }
          ],
          "heatmapgl": [
           {
            "colorbar": {
             "outlinewidth": 0,
             "ticks": ""
            },
            "colorscale": [
             [
              0,
              "#0d0887"
             ],
             [
              0.1111111111111111,
              "#46039f"
             ],
             [
              0.2222222222222222,
              "#7201a8"
             ],
             [
              0.3333333333333333,
              "#9c179e"
             ],
             [
              0.4444444444444444,
              "#bd3786"
             ],
             [
              0.5555555555555556,
              "#d8576b"
             ],
             [
              0.6666666666666666,
              "#ed7953"
             ],
             [
              0.7777777777777778,
              "#fb9f3a"
             ],
             [
              0.8888888888888888,
              "#fdca26"
             ],
             [
              1,
              "#f0f921"
             ]
            ],
            "type": "heatmapgl"
           }
          ],
          "histogram": [
           {
            "marker": {
             "colorbar": {
              "outlinewidth": 0,
              "ticks": ""
             }
            },
            "type": "histogram"
           }
          ],
          "histogram2d": [
           {
            "colorbar": {
             "outlinewidth": 0,
             "ticks": ""
            },
            "colorscale": [
             [
              0,
              "#0d0887"
             ],
             [
              0.1111111111111111,
              "#46039f"
             ],
             [
              0.2222222222222222,
              "#7201a8"
             ],
             [
              0.3333333333333333,
              "#9c179e"
             ],
             [
              0.4444444444444444,
              "#bd3786"
             ],
             [
              0.5555555555555556,
              "#d8576b"
             ],
             [
              0.6666666666666666,
              "#ed7953"
             ],
             [
              0.7777777777777778,
              "#fb9f3a"
             ],
             [
              0.8888888888888888,
              "#fdca26"
             ],
             [
              1,
              "#f0f921"
             ]
            ],
            "type": "histogram2d"
           }
          ],
          "histogram2dcontour": [
           {
            "colorbar": {
             "outlinewidth": 0,
             "ticks": ""
            },
            "colorscale": [
             [
              0,
              "#0d0887"
             ],
             [
              0.1111111111111111,
              "#46039f"
             ],
             [
              0.2222222222222222,
              "#7201a8"
             ],
             [
              0.3333333333333333,
              "#9c179e"
             ],
             [
              0.4444444444444444,
              "#bd3786"
             ],
             [
              0.5555555555555556,
              "#d8576b"
             ],
             [
              0.6666666666666666,
              "#ed7953"
             ],
             [
              0.7777777777777778,
              "#fb9f3a"
             ],
             [
              0.8888888888888888,
              "#fdca26"
             ],
             [
              1,
              "#f0f921"
             ]
            ],
            "type": "histogram2dcontour"
           }
          ],
          "mesh3d": [
           {
            "colorbar": {
             "outlinewidth": 0,
             "ticks": ""
            },
            "type": "mesh3d"
           }
          ],
          "parcoords": [
           {
            "line": {
             "colorbar": {
              "outlinewidth": 0,
              "ticks": ""
             }
            },
            "type": "parcoords"
           }
          ],
          "pie": [
           {
            "automargin": true,
            "type": "pie"
           }
          ],
          "scatter": [
           {
            "marker": {
             "colorbar": {
              "outlinewidth": 0,
              "ticks": ""
             }
            },
            "type": "scatter"
           }
          ],
          "scatter3d": [
           {
            "line": {
             "colorbar": {
              "outlinewidth": 0,
              "ticks": ""
             }
            },
            "marker": {
             "colorbar": {
              "outlinewidth": 0,
              "ticks": ""
             }
            },
            "type": "scatter3d"
           }
          ],
          "scattercarpet": [
           {
            "marker": {
             "colorbar": {
              "outlinewidth": 0,
              "ticks": ""
             }
            },
            "type": "scattercarpet"
           }
          ],
          "scattergeo": [
           {
            "marker": {
             "colorbar": {
              "outlinewidth": 0,
              "ticks": ""
             }
            },
            "type": "scattergeo"
           }
          ],
          "scattergl": [
           {
            "marker": {
             "colorbar": {
              "outlinewidth": 0,
              "ticks": ""
             }
            },
            "type": "scattergl"
           }
          ],
          "scattermapbox": [
           {
            "marker": {
             "colorbar": {
              "outlinewidth": 0,
              "ticks": ""
             }
            },
            "type": "scattermapbox"
           }
          ],
          "scatterpolar": [
           {
            "marker": {
             "colorbar": {
              "outlinewidth": 0,
              "ticks": ""
             }
            },
            "type": "scatterpolar"
           }
          ],
          "scatterpolargl": [
           {
            "marker": {
             "colorbar": {
              "outlinewidth": 0,
              "ticks": ""
             }
            },
            "type": "scatterpolargl"
           }
          ],
          "scatterternary": [
           {
            "marker": {
             "colorbar": {
              "outlinewidth": 0,
              "ticks": ""
             }
            },
            "type": "scatterternary"
           }
          ],
          "surface": [
           {
            "colorbar": {
             "outlinewidth": 0,
             "ticks": ""
            },
            "colorscale": [
             [
              0,
              "#0d0887"
             ],
             [
              0.1111111111111111,
              "#46039f"
             ],
             [
              0.2222222222222222,
              "#7201a8"
             ],
             [
              0.3333333333333333,
              "#9c179e"
             ],
             [
              0.4444444444444444,
              "#bd3786"
             ],
             [
              0.5555555555555556,
              "#d8576b"
             ],
             [
              0.6666666666666666,
              "#ed7953"
             ],
             [
              0.7777777777777778,
              "#fb9f3a"
             ],
             [
              0.8888888888888888,
              "#fdca26"
             ],
             [
              1,
              "#f0f921"
             ]
            ],
            "type": "surface"
           }
          ],
          "table": [
           {
            "cells": {
             "fill": {
              "color": "#EBF0F8"
             },
             "line": {
              "color": "white"
             }
            },
            "header": {
             "fill": {
              "color": "#C8D4E3"
             },
             "line": {
              "color": "white"
             }
            },
            "type": "table"
           }
          ]
         },
         "layout": {
          "annotationdefaults": {
           "arrowcolor": "#2a3f5f",
           "arrowhead": 0,
           "arrowwidth": 1
          },
          "autotypenumbers": "strict",
          "coloraxis": {
           "colorbar": {
            "outlinewidth": 0,
            "ticks": ""
           }
          },
          "colorscale": {
           "diverging": [
            [
             0,
             "#8e0152"
            ],
            [
             0.1,
             "#c51b7d"
            ],
            [
             0.2,
             "#de77ae"
            ],
            [
             0.3,
             "#f1b6da"
            ],
            [
             0.4,
             "#fde0ef"
            ],
            [
             0.5,
             "#f7f7f7"
            ],
            [
             0.6,
             "#e6f5d0"
            ],
            [
             0.7,
             "#b8e186"
            ],
            [
             0.8,
             "#7fbc41"
            ],
            [
             0.9,
             "#4d9221"
            ],
            [
             1,
             "#276419"
            ]
           ],
           "sequential": [
            [
             0,
             "#0d0887"
            ],
            [
             0.1111111111111111,
             "#46039f"
            ],
            [
             0.2222222222222222,
             "#7201a8"
            ],
            [
             0.3333333333333333,
             "#9c179e"
            ],
            [
             0.4444444444444444,
             "#bd3786"
            ],
            [
             0.5555555555555556,
             "#d8576b"
            ],
            [
             0.6666666666666666,
             "#ed7953"
            ],
            [
             0.7777777777777778,
             "#fb9f3a"
            ],
            [
             0.8888888888888888,
             "#fdca26"
            ],
            [
             1,
             "#f0f921"
            ]
           ],
           "sequentialminus": [
            [
             0,
             "#0d0887"
            ],
            [
             0.1111111111111111,
             "#46039f"
            ],
            [
             0.2222222222222222,
             "#7201a8"
            ],
            [
             0.3333333333333333,
             "#9c179e"
            ],
            [
             0.4444444444444444,
             "#bd3786"
            ],
            [
             0.5555555555555556,
             "#d8576b"
            ],
            [
             0.6666666666666666,
             "#ed7953"
            ],
            [
             0.7777777777777778,
             "#fb9f3a"
            ],
            [
             0.8888888888888888,
             "#fdca26"
            ],
            [
             1,
             "#f0f921"
            ]
           ]
          },
          "colorway": [
           "#636efa",
           "#EF553B",
           "#00cc96",
           "#ab63fa",
           "#FFA15A",
           "#19d3f3",
           "#FF6692",
           "#B6E880",
           "#FF97FF",
           "#FECB52"
          ],
          "font": {
           "color": "#2a3f5f"
          },
          "geo": {
           "bgcolor": "white",
           "lakecolor": "white",
           "landcolor": "#E5ECF6",
           "showlakes": true,
           "showland": true,
           "subunitcolor": "white"
          },
          "hoverlabel": {
           "align": "left"
          },
          "hovermode": "closest",
          "mapbox": {
           "style": "light"
          },
          "paper_bgcolor": "white",
          "plot_bgcolor": "#E5ECF6",
          "polar": {
           "angularaxis": {
            "gridcolor": "white",
            "linecolor": "white",
            "ticks": ""
           },
           "bgcolor": "#E5ECF6",
           "radialaxis": {
            "gridcolor": "white",
            "linecolor": "white",
            "ticks": ""
           }
          },
          "scene": {
           "xaxis": {
            "backgroundcolor": "#E5ECF6",
            "gridcolor": "white",
            "gridwidth": 2,
            "linecolor": "white",
            "showbackground": true,
            "ticks": "",
            "zerolinecolor": "white"
           },
           "yaxis": {
            "backgroundcolor": "#E5ECF6",
            "gridcolor": "white",
            "gridwidth": 2,
            "linecolor": "white",
            "showbackground": true,
            "ticks": "",
            "zerolinecolor": "white"
           },
           "zaxis": {
            "backgroundcolor": "#E5ECF6",
            "gridcolor": "white",
            "gridwidth": 2,
            "linecolor": "white",
            "showbackground": true,
            "ticks": "",
            "zerolinecolor": "white"
           }
          },
          "shapedefaults": {
           "line": {
            "color": "#2a3f5f"
           }
          },
          "ternary": {
           "aaxis": {
            "gridcolor": "white",
            "linecolor": "white",
            "ticks": ""
           },
           "baxis": {
            "gridcolor": "white",
            "linecolor": "white",
            "ticks": ""
           },
           "bgcolor": "#E5ECF6",
           "caxis": {
            "gridcolor": "white",
            "linecolor": "white",
            "ticks": ""
           }
          },
          "title": {
           "x": 0.05
          },
          "xaxis": {
           "automargin": true,
           "gridcolor": "white",
           "linecolor": "white",
           "ticks": "",
           "title": {
            "standoff": 15
           },
           "zerolinecolor": "white",
           "zerolinewidth": 2
          },
          "yaxis": {
           "automargin": true,
           "gridcolor": "white",
           "linecolor": "white",
           "ticks": "",
           "title": {
            "standoff": 15
           },
           "zerolinecolor": "white",
           "zerolinewidth": 2
          }
         }
        },
        "title": {
         "text": "US Accidents by State (Feb 2016—Dec 2020)",
         "x": 0.5
        }
       }
      },
      "text/html": [
       "<div>                            <div id=\"0c674acf-cf30-4287-a64a-2779db3de5ad\" class=\"plotly-graph-div\" style=\"height:525px; width:100%;\"></div>            <script type=\"text/javascript\">                require([\"plotly\"], function(Plotly) {                    window.PLOTLYENV=window.PLOTLYENV || {};                                    if (document.getElementById(\"0c674acf-cf30-4287-a64a-2779db3de5ad\")) {                    Plotly.newPlot(                        \"0c674acf-cf30-4287-a64a-2779db3de5ad\",                        [{\"colorbar\": {\"title\": {\"text\": \"Count\"}}, \"colorscale\": [[0.0, \"rgb(252, 222, 156)\"], [0.16666666666666666, \"rgb(250, 164, 118)\"], [0.3333333333333333, \"rgb(240, 116, 110)\"], [0.5, \"rgb(227, 79, 111)\"], [0.6666666666666666, \"rgb(220, 57, 119)\"], [0.8333333333333334, \"rgb(185, 37, 122)\"], [1.0, \"rgb(124, 29, 111)\"]], \"locationmode\": \"USA-states\", \"locations\": [\"SC\", \"AZ\", \"LA\", \"MN\", \"NJ\", \"DC\", \"OR\", \"VA\", \"RI\", \"KY\", \"WY\", \"NH\", \"MI\", \"NV\", \"WI\", \"ID\", \"CA\", \"NE\", \"CT\", \"MT\", \"NC\", \"VT\", \"MD\", \"DE\", \"MO\", \"IL\", \"ME\", \"WA\", \"ND\", \"MS\", \"AL\", \"IN\", \"OH\", \"TN\", \"IA\", \"NM\", \"PA\", \"SD\", \"NY\", \"TX\", \"WV\", \"GA\", \"MA\", \"KS\", \"FL\", \"CO\", \"AR\", \"OK\", \"UT\"], \"type\": \"choropleth\", \"z\": [208443, 89761, 79617, 103770, 66974, 5697, 106396, 119505, 12487, 24563, 508, 8445, 105397, 11855, 21436, 4165, 950573, 24921, 32377, 3198, 191640, 752, 54828, 6833, 39377, 111254, 2312, 74156, 431, 7918, 56411, 37501, 72789, 88204, 13769, 6433, 133847, 220, 187551, 369001, 3574, 105577, 41474, 7119, 364670, 53334, 4968, 64146, 53696]}],                        {\"font\": {\"color\": \"#000000\", \"family\": \"Verdana\", \"size\": 12}, \"geo\": {\"scope\": \"usa\"}, \"template\": {\"data\": {\"bar\": [{\"error_x\": {\"color\": \"#2a3f5f\"}, \"error_y\": {\"color\": \"#2a3f5f\"}, \"marker\": {\"line\": {\"color\": \"#E5ECF6\", \"width\": 0.5}}, \"type\": \"bar\"}], \"barpolar\": [{\"marker\": {\"line\": {\"color\": \"#E5ECF6\", \"width\": 0.5}}, \"type\": \"barpolar\"}], \"carpet\": [{\"aaxis\": {\"endlinecolor\": \"#2a3f5f\", \"gridcolor\": \"white\", \"linecolor\": \"white\", \"minorgridcolor\": \"white\", \"startlinecolor\": \"#2a3f5f\"}, \"baxis\": {\"endlinecolor\": \"#2a3f5f\", \"gridcolor\": \"white\", \"linecolor\": \"white\", \"minorgridcolor\": \"white\", \"startlinecolor\": \"#2a3f5f\"}, \"type\": \"carpet\"}], \"choropleth\": [{\"colorbar\": {\"outlinewidth\": 0, \"ticks\": \"\"}, \"type\": \"choropleth\"}], \"contour\": [{\"colorbar\": {\"outlinewidth\": 0, \"ticks\": \"\"}, \"colorscale\": [[0.0, \"#0d0887\"], [0.1111111111111111, \"#46039f\"], [0.2222222222222222, \"#7201a8\"], [0.3333333333333333, \"#9c179e\"], [0.4444444444444444, \"#bd3786\"], [0.5555555555555556, \"#d8576b\"], [0.6666666666666666, \"#ed7953\"], [0.7777777777777778, \"#fb9f3a\"], [0.8888888888888888, \"#fdca26\"], [1.0, \"#f0f921\"]], \"type\": \"contour\"}], \"contourcarpet\": [{\"colorbar\": {\"outlinewidth\": 0, \"ticks\": \"\"}, \"type\": \"contourcarpet\"}], \"heatmap\": [{\"colorbar\": {\"outlinewidth\": 0, \"ticks\": \"\"}, \"colorscale\": [[0.0, \"#0d0887\"], [0.1111111111111111, \"#46039f\"], [0.2222222222222222, \"#7201a8\"], [0.3333333333333333, \"#9c179e\"], [0.4444444444444444, \"#bd3786\"], [0.5555555555555556, \"#d8576b\"], [0.6666666666666666, \"#ed7953\"], [0.7777777777777778, \"#fb9f3a\"], [0.8888888888888888, \"#fdca26\"], [1.0, \"#f0f921\"]], \"type\": \"heatmap\"}], \"heatmapgl\": [{\"colorbar\": {\"outlinewidth\": 0, \"ticks\": \"\"}, \"colorscale\": [[0.0, \"#0d0887\"], [0.1111111111111111, \"#46039f\"], [0.2222222222222222, \"#7201a8\"], [0.3333333333333333, \"#9c179e\"], [0.4444444444444444, \"#bd3786\"], [0.5555555555555556, \"#d8576b\"], [0.6666666666666666, \"#ed7953\"], [0.7777777777777778, \"#fb9f3a\"], [0.8888888888888888, \"#fdca26\"], [1.0, \"#f0f921\"]], \"type\": \"heatmapgl\"}], \"histogram\": [{\"marker\": {\"colorbar\": {\"outlinewidth\": 0, \"ticks\": \"\"}}, \"type\": \"histogram\"}], \"histogram2d\": [{\"colorbar\": {\"outlinewidth\": 0, \"ticks\": \"\"}, \"colorscale\": [[0.0, \"#0d0887\"], [0.1111111111111111, \"#46039f\"], [0.2222222222222222, \"#7201a8\"], [0.3333333333333333, \"#9c179e\"], [0.4444444444444444, \"#bd3786\"], [0.5555555555555556, \"#d8576b\"], [0.6666666666666666, \"#ed7953\"], [0.7777777777777778, \"#fb9f3a\"], [0.8888888888888888, \"#fdca26\"], [1.0, \"#f0f921\"]], \"type\": \"histogram2d\"}], \"histogram2dcontour\": [{\"colorbar\": {\"outlinewidth\": 0, \"ticks\": \"\"}, \"colorscale\": [[0.0, \"#0d0887\"], [0.1111111111111111, \"#46039f\"], [0.2222222222222222, \"#7201a8\"], [0.3333333333333333, \"#9c179e\"], [0.4444444444444444, \"#bd3786\"], [0.5555555555555556, \"#d8576b\"], [0.6666666666666666, \"#ed7953\"], [0.7777777777777778, \"#fb9f3a\"], [0.8888888888888888, \"#fdca26\"], [1.0, \"#f0f921\"]], \"type\": \"histogram2dcontour\"}], \"mesh3d\": [{\"colorbar\": {\"outlinewidth\": 0, \"ticks\": \"\"}, \"type\": \"mesh3d\"}], \"parcoords\": [{\"line\": {\"colorbar\": {\"outlinewidth\": 0, \"ticks\": \"\"}}, \"type\": \"parcoords\"}], \"pie\": [{\"automargin\": true, \"type\": \"pie\"}], \"scatter\": [{\"marker\": {\"colorbar\": {\"outlinewidth\": 0, \"ticks\": \"\"}}, \"type\": \"scatter\"}], \"scatter3d\": [{\"line\": {\"colorbar\": {\"outlinewidth\": 0, \"ticks\": \"\"}}, \"marker\": {\"colorbar\": {\"outlinewidth\": 0, \"ticks\": \"\"}}, \"type\": \"scatter3d\"}], \"scattercarpet\": [{\"marker\": {\"colorbar\": {\"outlinewidth\": 0, \"ticks\": \"\"}}, \"type\": \"scattercarpet\"}], \"scattergeo\": [{\"marker\": {\"colorbar\": {\"outlinewidth\": 0, \"ticks\": \"\"}}, \"type\": \"scattergeo\"}], \"scattergl\": [{\"marker\": {\"colorbar\": {\"outlinewidth\": 0, \"ticks\": \"\"}}, \"type\": \"scattergl\"}], \"scattermapbox\": [{\"marker\": {\"colorbar\": {\"outlinewidth\": 0, \"ticks\": \"\"}}, \"type\": \"scattermapbox\"}], \"scatterpolar\": [{\"marker\": {\"colorbar\": {\"outlinewidth\": 0, \"ticks\": \"\"}}, \"type\": \"scatterpolar\"}], \"scatterpolargl\": [{\"marker\": {\"colorbar\": {\"outlinewidth\": 0, \"ticks\": \"\"}}, \"type\": \"scatterpolargl\"}], \"scatterternary\": [{\"marker\": {\"colorbar\": {\"outlinewidth\": 0, \"ticks\": \"\"}}, \"type\": \"scatterternary\"}], \"surface\": [{\"colorbar\": {\"outlinewidth\": 0, \"ticks\": \"\"}, \"colorscale\": [[0.0, \"#0d0887\"], [0.1111111111111111, \"#46039f\"], [0.2222222222222222, \"#7201a8\"], [0.3333333333333333, \"#9c179e\"], [0.4444444444444444, \"#bd3786\"], [0.5555555555555556, \"#d8576b\"], [0.6666666666666666, \"#ed7953\"], [0.7777777777777778, \"#fb9f3a\"], [0.8888888888888888, \"#fdca26\"], [1.0, \"#f0f921\"]], \"type\": \"surface\"}], \"table\": [{\"cells\": {\"fill\": {\"color\": \"#EBF0F8\"}, \"line\": {\"color\": \"white\"}}, \"header\": {\"fill\": {\"color\": \"#C8D4E3\"}, \"line\": {\"color\": \"white\"}}, \"type\": \"table\"}]}, \"layout\": {\"annotationdefaults\": {\"arrowcolor\": \"#2a3f5f\", \"arrowhead\": 0, \"arrowwidth\": 1}, \"autotypenumbers\": \"strict\", \"coloraxis\": {\"colorbar\": {\"outlinewidth\": 0, \"ticks\": \"\"}}, \"colorscale\": {\"diverging\": [[0, \"#8e0152\"], [0.1, \"#c51b7d\"], [0.2, \"#de77ae\"], [0.3, \"#f1b6da\"], [0.4, \"#fde0ef\"], [0.5, \"#f7f7f7\"], [0.6, \"#e6f5d0\"], [0.7, \"#b8e186\"], [0.8, \"#7fbc41\"], [0.9, \"#4d9221\"], [1, \"#276419\"]], \"sequential\": [[0.0, \"#0d0887\"], [0.1111111111111111, \"#46039f\"], [0.2222222222222222, \"#7201a8\"], [0.3333333333333333, \"#9c179e\"], [0.4444444444444444, \"#bd3786\"], [0.5555555555555556, \"#d8576b\"], [0.6666666666666666, \"#ed7953\"], [0.7777777777777778, \"#fb9f3a\"], [0.8888888888888888, \"#fdca26\"], [1.0, \"#f0f921\"]], \"sequentialminus\": [[0.0, \"#0d0887\"], [0.1111111111111111, \"#46039f\"], [0.2222222222222222, \"#7201a8\"], [0.3333333333333333, \"#9c179e\"], [0.4444444444444444, \"#bd3786\"], [0.5555555555555556, \"#d8576b\"], [0.6666666666666666, \"#ed7953\"], [0.7777777777777778, \"#fb9f3a\"], [0.8888888888888888, \"#fdca26\"], [1.0, \"#f0f921\"]]}, \"colorway\": [\"#636efa\", \"#EF553B\", \"#00cc96\", \"#ab63fa\", \"#FFA15A\", \"#19d3f3\", \"#FF6692\", \"#B6E880\", \"#FF97FF\", \"#FECB52\"], \"font\": {\"color\": \"#2a3f5f\"}, \"geo\": {\"bgcolor\": \"white\", \"lakecolor\": \"white\", \"landcolor\": \"#E5ECF6\", \"showlakes\": true, \"showland\": true, \"subunitcolor\": \"white\"}, \"hoverlabel\": {\"align\": \"left\"}, \"hovermode\": \"closest\", \"mapbox\": {\"style\": \"light\"}, \"paper_bgcolor\": \"white\", \"plot_bgcolor\": \"#E5ECF6\", \"polar\": {\"angularaxis\": {\"gridcolor\": \"white\", \"linecolor\": \"white\", \"ticks\": \"\"}, \"bgcolor\": \"#E5ECF6\", \"radialaxis\": {\"gridcolor\": \"white\", \"linecolor\": \"white\", \"ticks\": \"\"}}, \"scene\": {\"xaxis\": {\"backgroundcolor\": \"#E5ECF6\", \"gridcolor\": \"white\", \"gridwidth\": 2, \"linecolor\": \"white\", \"showbackground\": true, \"ticks\": \"\", \"zerolinecolor\": \"white\"}, \"yaxis\": {\"backgroundcolor\": \"#E5ECF6\", \"gridcolor\": \"white\", \"gridwidth\": 2, \"linecolor\": \"white\", \"showbackground\": true, \"ticks\": \"\", \"zerolinecolor\": \"white\"}, \"zaxis\": {\"backgroundcolor\": \"#E5ECF6\", \"gridcolor\": \"white\", \"gridwidth\": 2, \"linecolor\": \"white\", \"showbackground\": true, \"ticks\": \"\", \"zerolinecolor\": \"white\"}}, \"shapedefaults\": {\"line\": {\"color\": \"#2a3f5f\"}}, \"ternary\": {\"aaxis\": {\"gridcolor\": \"white\", \"linecolor\": \"white\", \"ticks\": \"\"}, \"baxis\": {\"gridcolor\": \"white\", \"linecolor\": \"white\", \"ticks\": \"\"}, \"bgcolor\": \"#E5ECF6\", \"caxis\": {\"gridcolor\": \"white\", \"linecolor\": \"white\", \"ticks\": \"\"}}, \"title\": {\"x\": 0.05}, \"xaxis\": {\"automargin\": true, \"gridcolor\": \"white\", \"linecolor\": \"white\", \"ticks\": \"\", \"title\": {\"standoff\": 15}, \"zerolinecolor\": \"white\", \"zerolinewidth\": 2}, \"yaxis\": {\"automargin\": true, \"gridcolor\": \"white\", \"linecolor\": \"white\", \"ticks\": \"\", \"title\": {\"standoff\": 15}, \"zerolinecolor\": \"white\", \"zerolinewidth\": 2}}}, \"title\": {\"text\": \"US Accidents by State (Feb 2016\\u2014Dec 2020)\", \"x\": 0.5}},                        {\"responsive\": true}                    ).then(function(){\n",
       "                            \n",
       "var gd = document.getElementById('0c674acf-cf30-4287-a64a-2779db3de5ad');\n",
       "var x = new MutationObserver(function (mutations, observer) {{\n",
       "        var display = window.getComputedStyle(gd).display;\n",
       "        if (!display || display === 'none') {{\n",
       "            console.log([gd, 'removed!']);\n",
       "            Plotly.purge(gd);\n",
       "            observer.disconnect();\n",
       "        }}\n",
       "}});\n",
       "\n",
       "// Listen for the removal of the full notebook cells\n",
       "var notebookContainer = gd.closest('#notebook-container');\n",
       "if (notebookContainer) {{\n",
       "    x.observe(notebookContainer, {childList: true});\n",
       "}}\n",
       "\n",
       "// Listen for the clearing of the current output cell\n",
       "var outputEl = gd.closest('.output');\n",
       "if (outputEl) {{\n",
       "    x.observe(outputEl, {childList: true});\n",
       "}}\n",
       "\n",
       "                        })                };                });            </script>        </div>"
      ]
     },
     "metadata": {},
     "output_type": "display_data"
    }
   ],
   "source": [
    "def build_states_graph(df):\n",
    "    data = df.groupBy(\"State\").count().filter(col('State') != 'null').collect()\n",
    "    states = [row['State'] for row in data]\n",
    "    state_counts = [row['count'] for row in data]\n",
    "\n",
    "    fig = go.Figure(\n",
    "        data=go.Choropleth(\n",
    "            locations = states,\n",
    "            z = state_counts,\n",
    "            locationmode = 'USA-states',\n",
    "            colorscale = 'SunsetDark',\n",
    "            colorbar_title = \"Count\"),\n",
    "        layout=go.Layout(\n",
    "            title_text='US Accidents by State (Feb 2016—Dec 2020)',\n",
    "            title_x=0.5,\n",
    "            font=dict(family='Verdana', size=12, color='#000000'),\n",
    "            geo_scope='usa'))\n",
    "\n",
    "    fig.show()\n",
    "    \n",
    "build_states_graph(root_accidents_data)"
   ]
  },
  {
   "cell_type": "markdown",
   "id": "recognized-nylon",
   "metadata": {},
   "source": [
    "Roads often get blocked for maintanance, there are a lot of unkown external factors besides all the given information. People in US states are also very different in their cultural values, mindsets. The problem of traffic is the most prevalent in California, as can be seen above so to make estimates more precise we will also filter by California State"
   ]
  },
  {
   "cell_type": "code",
   "execution_count": 69,
   "id": "dirty-survival",
   "metadata": {},
   "outputs": [
    {
     "data": {
      "text/plain": [
       "1101132"
      ]
     },
     "execution_count": 69,
     "metadata": {},
     "output_type": "execute_result"
    }
   ],
   "source": [
    "relevant_dataset = root_accidents_data.filter((col('year') == 2019) | ((col('year') == 2020)))\n",
    "relevant_dataset = relevant_dataset.filter(col('Source') == 'MapQuest')\n",
    "relevant_dataset.count()"
   ]
  },
  {
   "cell_type": "markdown",
   "id": "tender-inspector",
   "metadata": {},
   "source": [
    "# Balacing around 'Severity'"
   ]
  },
  {
   "cell_type": "markdown",
   "id": "august-adelaide",
   "metadata": {},
   "source": [
    "There is a clear dataset imbalance problem we have to deal with"
   ]
  },
  {
   "cell_type": "code",
   "execution_count": 70,
   "id": "stable-concept",
   "metadata": {
    "scrolled": true
   },
   "outputs": [
    {
     "data": {
      "image/png": "[encoded data removed]",
      "text/plain": [
       "<Figure size 432x288 with 1 Axes>"
      ]
     },
     "metadata": {},
     "output_type": "display_data"
    },
    {
     "name": "stdout",
     "output_type": "stream",
     "text": [
      "[('3', 326023), ('1', 346), ('4', 7920), ('2', 766843)]\n"
     ]
    }
   ],
   "source": [
    "display_piechart_of_column(relevant_dataset, 'Severity')"
   ]
  },
  {
   "cell_type": "markdown",
   "id": "dense-found",
   "metadata": {},
   "source": [
    "'Severity' is largely dominated by class '2'. To solve this, we will oversample the minority classes and undersample majority."
   ]
  },
  {
   "cell_type": "code",
   "execution_count": 65,
   "id": "pacific-pontiac",
   "metadata": {},
   "outputs": [],
   "source": [
    "def upsample(df, sample_factor):\n",
    "    sample_factor = (int(math.ceil(sample_factor)))\n",
    "    \n",
    "    a = range(sample_factor)\n",
    "    return df.withColumn(\"dummy\", explode(array([lit(x) for x in a]))).drop('dummy')\n",
    "\n",
    "def downsample(df, sample_factor):\n",
    "    return df.sample(sample_factor, seed)\n",
    "\n",
    "def auto_sample(df, sample_factor):\n",
    "    if sample_factor > 1:\n",
    "        return upsample(df, sample_factor)\n",
    "    else:\n",
    "        return downsample(df, sample_factor)\n",
    "\n",
    "def balance(df, col_name, rows_per_class=100000):\n",
    "    count = df.groupBy(col_name).count().withColumnRenamed('count', 'class_count')\n",
    "    class_rows = count.collect()\n",
    "    min_count = count.agg(min('class_count').alias('class_count')).collect()[0].class_count\n",
    "    print(min_count, 'min')\n",
    "    rows_per_class = min_count * 5\n",
    "    dfs = list()\n",
    "    for row in class_rows:\n",
    "        class_count = row['class_count']\n",
    "        class_name = row[col_name]\n",
    "        sample_factor = rows_per_class/class_count\n",
    "        print(f'sampling {col_name}-{class_name}: sf={sample_factor}')\n",
    "        df_by_class = df.filter(df[col_name] == class_name)\n",
    "        scaled_df = auto_sample(df_by_class, sample_factor)\n",
    "        dfs.append(scaled_df)\n",
    "    \n",
    "    return reduce(DataFrame.unionAll, dfs)"
   ]
  },
  {
   "cell_type": "code",
   "execution_count": 66,
   "id": "burning-transmission",
   "metadata": {
    "scrolled": false
   },
   "outputs": [
    {
     "data": {
      "image/png": "[encoded data removed]",
      "text/plain": [
       "<Figure size 432x288 with 1 Axes>"
      ]
     },
     "metadata": {},
     "output_type": "display_data"
    },
    {
     "name": "stdout",
     "output_type": "stream",
     "text": [
      "[('3', 7343), ('1', 5435), ('4', 3911), ('2', 316749)]\n",
      "3911 min\n",
      "sampling Severity-1: sf=3.597976080956762\n",
      "sampling Severity-3: sf=2.6630804848154703\n",
      "sampling Severity-4: sf=5.0\n",
      "sampling Severity-2: sf=0.061736580068129654\n"
     ]
    },
    {
     "data": {
      "image/png": "[encoded data removed]",
      "text/plain": [
       "<Figure size 432x288 with 1 Axes>"
      ]
     },
     "metadata": {},
     "output_type": "display_data"
    },
    {
     "name": "stdout",
     "output_type": "stream",
     "text": [
      "[('3', 22029), ('1', 21740), ('4', 19555), ('2', 19509)]\n"
     ]
    }
   ],
   "source": [
    "#uncomment when want to predict 2 classes only, most severe, and alright class\n",
    "#relevant_dataset = relevant_dataset.withColumn('Severity', when(col('Severity') == 4, lit(1)).otherwise(lit(0)))\n",
    "\n",
    "display_piechart_of_column(relevant_dataset, 'Severity')\n",
    "balanced_dataset = balance(relevant_dataset, 'Severity')\n",
    "display_piechart_of_column(balanced_dataset, 'Severity')"
   ]
  },
  {
   "cell_type": "markdown",
   "id": "leading-jumping",
   "metadata": {},
   "source": [
    "Now the Severity class is much more balanced"
   ]
  },
  {
   "cell_type": "markdown",
   "id": "comparable-immigration",
   "metadata": {},
   "source": [
    "# Modeling"
   ]
  },
  {
   "cell_type": "code",
   "execution_count": null,
   "id": "convenient-swaziland",
   "metadata": {},
   "outputs": [],
   "source": [
    "def test_model(estimator, is_classification, dataframe, categorical_features, continuous_features, label_to_predict, seed):\n",
    "    #only select specified columns for featurization\n",
    "    dataframe = dataframe.select(label_to_predict, *categorical_features, *continuous_features).dropna()\n",
    "    #featurize columns, convert categorical into vectors\n",
    "    label_features_df = df_to_label_features(dataframe, label_to_predict, categorical_features, continuous_features)\n",
    "    (training, test) = label_features_df.randomSplit([0.8, 0.2], seed)\n",
    "\n",
    "    #train and fit\n",
    "    model = estimator.fit(training)\n",
    "    predictions_labels = model.transform(test)\n",
    "    predictions_labels.show()\n",
    "\n",
    "    #evaluate\n",
    "    print_metrics(predictions_labels, is_classification)\n",
    "\n",
    "#helper functions for regression/classification\n",
    "def df_to_label_features(dataframe, label_to_predict, categorical_features, continuous_features):\n",
    "    # stages = build_pipeline_stages(categorical_features, continuous_features)\n",
    "    # pipelined_dataframe = pipeline_dataframe(stages, dataframe)\n",
    "    hasher = FeatureHasher(inputCols=[*categorical_features, *continuous_features], outputCol='features')\n",
    "    featurized = hasher.transform(dataframe)\n",
    "    label_features = featurized.select(label_to_predict, 'features').withColumnRenamed(label_to_predict, 'label')\n",
    "    return label_features\n",
    "\n",
    "\n",
    "\n",
    "def print_metrics(predictions, is_classification):\n",
    "    evaluator = None\n",
    "    if is_classification:\n",
    "        evaluator = MulticlassClassificationEvaluator()\n",
    "        metrics = ['accuracy', 'f1']\n",
    "    else:\n",
    "        evaluator = RegressionEvaluator()\n",
    "        metrics = ['rmse']\n",
    "    for metric in metrics:\n",
    "        evaluation = evaluator.evaluate(predictions, {evaluator.metricName: metric})\n",
    "        print(f'{metric}: {evaluation}')\n",
    "        "
   ]
  },
  {
   "cell_type": "code",
   "execution_count": 63,
   "id": "noted-facing",
   "metadata": {
    "scrolled": false
   },
   "outputs": [
    {
     "name": "stdout",
     "output_type": "stream",
     "text": [
      "+-----+--------------------+--------------------+--------------------+----------+\n",
      "|label|            features|       rawPrediction|         probability|prediction|\n",
      "+-----+--------------------+--------------------+--------------------+----------+\n",
      "|    1|(262144,[7263,864...|[0.0,17299.0,1071...|[0.0,0.6842417530...|       1.0|\n",
      "|    1|(262144,[7263,864...|[0.0,17299.0,1071...|[0.0,0.6842417530...|       1.0|\n",
      "|    1|(262144,[7263,864...|[0.0,17299.0,1071...|[0.0,0.6842417530...|       1.0|\n",
      "|    1|(262144,[7263,864...|[0.0,17299.0,1071...|[0.0,0.6842417530...|       1.0|\n",
      "|    1|(262144,[7263,864...|[0.0,17299.0,1071...|[0.0,0.6842417530...|       1.0|\n",
      "|    1|(262144,[7263,864...|[0.0,17299.0,1071...|[0.0,0.6842417530...|       1.0|\n",
      "|    1|(262144,[7263,864...|[0.0,17299.0,1071...|[0.0,0.6842417530...|       1.0|\n",
      "|    1|(262144,[4151,726...|[0.0,17299.0,1071...|[0.0,0.6842417530...|       1.0|\n",
      "|    1|(262144,[4151,726...|[0.0,17299.0,1071...|[0.0,0.6842417530...|       1.0|\n",
      "|    1|(262144,[4151,726...|[0.0,17299.0,1071...|[0.0,0.6842417530...|       1.0|\n",
      "|    1|(262144,[4151,726...|[0.0,17299.0,1071...|[0.0,0.6842417530...|       1.0|\n",
      "|    1|(262144,[4151,726...|[0.0,17299.0,1071...|[0.0,0.6842417530...|       1.0|\n",
      "|    1|(262144,[4151,726...|[0.0,17299.0,1071...|[0.0,0.6842417530...|       1.0|\n",
      "|    1|(262144,[4151,726...|[0.0,17299.0,1071...|[0.0,0.6842417530...|       1.0|\n",
      "|    1|(262144,[4151,726...|[0.0,17299.0,1071...|[0.0,0.6842417530...|       1.0|\n",
      "|    1|(262144,[4151,726...|[0.0,17299.0,1071...|[0.0,0.6842417530...|       1.0|\n",
      "|    1|(262144,[4151,726...|[0.0,17299.0,1071...|[0.0,0.6842417530...|       1.0|\n",
      "|    1|(262144,[4151,726...|[0.0,17299.0,1071...|[0.0,0.6842417530...|       1.0|\n",
      "|    1|(262144,[4151,726...|[0.0,17299.0,1071...|[0.0,0.6842417530...|       1.0|\n",
      "|    1|(262144,[4151,726...|[0.0,17299.0,1071...|[0.0,0.6842417530...|       1.0|\n",
      "+-----+--------------------+--------------------+--------------------+----------+\n",
      "only showing top 20 rows\n",
      "\n",
      "accuracy: 0.6465824027488035\n",
      "f1: 0.6069085522856195\n"
     ]
    }
   ],
   "source": [
    "test_model(DecisionTreeClassifier(), True, balanced_dataset, \\\n",
    "           ['street_type', 'Wind_Direction', 'Sunrise_Sunset', 'fair', 'clouds', 'dark_clouds', 'fog', 'rain', 'heavy_rain', 'snow', 'heavy_snow', 'weekday', 'Side',\\\n",
    "            'Amenity', 'Bump', 'Crossing', 'Give_Way', 'Junction', 'No_Exit','Railway', 'Roundabout','Station','Stop', 'Traffic_Signal', 'Traffic_Calming'], \\\n",
    "           ['Wind_Speed(mph)', 'Start_Lat', 'Start_Lng', 'Visibility(mi)', 'hour_minutes', 'year', 'day'], 'Severity', seed)"
   ]
  },
  {
   "cell_type": "code",
   "execution_count": null,
   "id": "moderate-retention",
   "metadata": {},
   "outputs": [],
   "source": [
    "test_model(DecisionTreeClassifier(), True, balanced_dataset, \\\n",
    "           ['street_type', 'Wind_Direction', 'Sunrise_Sunset', 'fair', 'clouds', 'dark_clouds', 'fog', 'rain', 'heavy_rain', 'snow', 'heavy_snow', 'weekday', 'Side',\\\n",
    "            'Amenity', 'Bump', 'Crossing', 'Give_Way', 'Junction', 'No_Exit','Railway', 'Roundabout','Station','Stop', 'Traffic_Signal', 'Traffic_Calming'], \\\n",
    "           ['Wind_Speed(mph)', 'Start_Lat', 'Start_Lng', 'Visibility(mi)', 'hour_minutes', 'year', 'day'], 'Severity', seed)"
   ]
  },
  {
   "cell_type": "markdown",
   "id": "favorite-glory",
   "metadata": {},
   "source": [
    "# Results"
   ]
  },
  {
   "attachments": {
    "image.png": {
     "image/png": "[encoded data removed]"
    }
   },
   "cell_type": "markdown",
   "id": "geographic-checklist",
   "metadata": {},
   "source": [
    "![image.png](attachment:image.png)"
   ]
  },
  {
   "cell_type": "code",
   "execution_count": null,
   "id": "functioning-darwin",
   "metadata": {},
   "outputs": [],
   "source": []
  }
 ],
 "metadata": {
  "kernelspec": {
   "display_name": "biggyTraffic",
   "language": "python",
   "name": "biggytraffic"
  },
  "language_info": {
   "codemirror_mode": {
    "name": "ipython",
    "version": 3
   },
   "file_extension": ".py",
   "mimetype": "text/x-python",
   "name": "python",
   "nbconvert_exporter": "python",
   "pygments_lexer": "ipython3",
   "version": "3.9.1"
  }
 },
 "nbformat": 4,
 "nbformat_minor": 5
}
